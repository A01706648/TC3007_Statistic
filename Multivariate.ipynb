{
 "cells": [
  {
   "cell_type": "markdown",
   "metadata": {},
   "source": [
    "GET THE ORIGINAL DATA.  \n",
    "GENERATE MATRIX FOR X,  \n",
    "WITH X FROM **'op_profit_margin', 'short_leverage', 'bmr', 'epsp', 'size_d1', 'size_d2'**  \n",
    "WITH Y FROM **'anual_cc_return_future'**"
   ]
  },
  {
   "cell_type": "code",
   "execution_count": 126,
   "metadata": {},
   "outputs": [],
   "source": [
    "isGoogleColab = False\n",
    "\n",
    "if(isGoogleColab):\n",
    "    from google.colab import drive\n",
    "import pandas as pd\n",
    "import numpy as np\n",
    "import plotly.express as px\n",
    "import matplotlib.pyplot as plt\n",
    "import seaborn as sns\n",
    "from scipy.stats.mstats import winsorize\n",
    "import statsmodels.api as sm\n",
    "import math"
   ]
  },
  {
   "cell_type": "code",
   "execution_count": 2,
   "metadata": {},
   "outputs": [],
   "source": [
    "industry_dict = {'Accommodation and Food Services':'Services',\n",
    "       'Administrative and Support and Waste Management and Remediation Services':'Services',\n",
    "       'Agriculture, Forestry, Fishing and Hunting':'Agriculture',\n",
    "       'Arts, Entertainment, and Recreation':'Services', \n",
    "       'Construction':'Construction',\n",
    "       'Educational Services':'Services', \n",
    "       'Finance and Insurance':'Finance',\n",
    "       'Health Care and Social Assistance':'Services', \n",
    "       'Information':'Services',\n",
    "       'Manufacturing':'Manufacturing', \n",
    "       'Mining, Quarrying, and Oil and Gas Extraction':'Mining',\n",
    "       'Other Services (except Public Administration)':'Services',\n",
    "       'Professional, Scientific, and Technical Services':'Services',\n",
    "       'Real Estate and Rental and Leasing':'Finance', \n",
    "       'Retail Trade':'Comercial',\n",
    "       'Transportation and Warehousing':'Services', \n",
    "       'Utilities':'Energy', \n",
    "       'Wholesale Trade':'Comercial'}"
   ]
  },
  {
   "cell_type": "code",
   "execution_count": 3,
   "metadata": {},
   "outputs": [],
   "source": [
    "if(isGoogleColab):\n",
    "    drive.mount(\"/content/gdrive\") \n",
    "    %cd \"/content/gdrive/MyDrive/Machine Learning/deliver/M1\"\n",
    "df = pd.read_csv('us2022q2a.csv')\n",
    "df_firm = pd.read_csv('usfirms2022.csv')"
   ]
  },
  {
   "cell_type": "code",
   "execution_count": 4,
   "metadata": {},
   "outputs": [],
   "source": [
    "bIsAproachNew = False\n",
    "\n",
    "df_more = df.copy()\n",
    "\n",
    "#put industry column\n",
    "firm_list = df['firm'].unique()\n",
    "firm_list = firm_list.tolist()\n",
    "firm_list.remove(np.nan)\n",
    "df_firm_more = df_firm.copy()\n",
    "df_firm_more['industry'] = df_firm_more['Sector NAICS\\nlevel 1']\n",
    "df_firm_more = df_firm_more.replace({'industry': industry_dict})\n",
    "\n",
    "firm_industry_dic = {}\n",
    "\n",
    "if(bIsAproachNew):\n",
    "  firm_industry_dic_temp = {}\n",
    "\n",
    "  for count in range(df_firm_more['Ticker'].count()):\n",
    "    firm_industry_dic_temp[df_firm_more['Ticker'][count]] = df_firm_more['industry'][count]\n",
    "\n",
    "  #print(firm_industry_dic_temp)\n",
    "else:\n",
    "  for firm in firm_list:\n",
    "    if (len((df_firm_more[df_firm_more['Ticker'] == firm]['industry']).values.tolist()) > 0):\n",
    "      firm_industry_dic[firm] = ((df_firm_more[df_firm_more['Ticker'] == firm]['industry']).values.tolist())[0]\n",
    "    else:\n",
    "      firm_industry_dic[firm] = np.nan\n",
    "\n",
    "for firm in firm_list:\n",
    "    if(bIsAproachNew):\n",
    "      if((len(firm) > 0) and (firm in firm_industry_dic_temp)):\n",
    "        firm_industry_dic[firm] = firm_industry_dic_temp[firm]\n",
    "      #else:\n",
    "      #  firm_industry_dic[firm] = np.nan\n",
    "    else:\n",
    "      if(len(firm) > 0):\n",
    "        #firm_industry_dic[firm] = ((df_firm_more[df_firm_more['Ticker'] == firm]['industry']).values.tolist())[0]\n",
    "        temp_df = df_firm_more[df_firm_more['Ticker'] == firm]\n",
    "        if(temp_df['industry'].count() > 0):\n",
    "          firm_industry_dic[firm] = temp_df['industry'].tolist()[0]\n",
    "      #else:\n",
    "      #  firm_industry_dic[firm] = np.nan\n",
    "\n",
    "df_more['industry'] = df_more['firm']\n",
    "df_more = df_more.replace({'industry': firm_industry_dic})\n",
    "\n",
    "\n",
    "#put country column\n",
    "firm_country_dict = {}\n",
    "for count in range(df_firm['Ticker'].count()):\n",
    "    firm = df_firm['Ticker'][count]\n",
    "    country = df_firm['Country\\nof Origin'][count]\n",
    "    firm_country_dict[firm] = country\n",
    "\n",
    "df_more['country'] = df_more['firm']\n",
    "df_more = df_more.replace({'country':firm_country_dict})\n",
    "#drop the line which all column is empty\n",
    "df_more = df_more.dropna(how='all')\n",
    "#df_more"
   ]
  },
  {
   "cell_type": "code",
   "execution_count": 5,
   "metadata": {},
   "outputs": [],
   "source": [
    "df_more['firm_index'] = df_more['firm']\n",
    "df_more['q_index'] = df_more['q']\n",
    "df_more.set_index(['firm_index','q_index'], inplace=True)\n",
    "#add Date\n",
    "df_more['date'] = pd.to_datetime(df_more['q'])\n",
    "\n",
    "#Calculate bookvalue\n",
    "df_more['bookvalue'] = df_more['totalassets'] - df_more['totalliabilities']\n",
    "\n",
    "#Calculate Market Value\n",
    "df_more['marketvalue'] = df_more['originalprice'] * df_more['sharesoutstanding']\n",
    "\n",
    "#Calculate Operating profit margin\n",
    "df_more['op_profit'] = df_more['revenue'] - df_more['cogs'] - df_more['sgae'] - df_more['otheropexp']\n",
    "df_more['op_profit_margin'] = df_more['op_profit'] / df_more['revenue']\n",
    "df_more['net_income'] = df_more['op_profit'] - df_more['incometax'] - df_more['finexp'] + df_more['extraincome']\n",
    "df_more['profit_margin'] = df_more['net_income'] / df_more['revenue']\n",
    "\n",
    "#Calculate CC Return\n",
    "df_more['anual_cc_return'] = np.log(df_more['adjprice']) - np.log(df_more['adjprice'].shift(4))\n",
    "df_more['anual_cc_return_future'] = np.log(df_more['adjprice'].shift(-1)) - np.log(df_more['adjprice'].shift(3))\n",
    "\n",
    "\n",
    "#Earning Per Share\n",
    "df_more['eps'] = df_more['net_income'] / df_more['sharesoutstanding']\n",
    "\n",
    "#Calculate the short term leverage\n",
    "\n",
    "#Calculate the ratio of bookvalue and market value\n",
    "\n",
    "\n",
    "df_more = df_more.dropna(subset=['adjprice'])"
   ]
  },
  {
   "cell_type": "code",
   "execution_count": 6,
   "metadata": {},
   "outputs": [],
   "source": [
    "industry_list = df_more['industry'].unique()\n",
    "industry_list = industry_list.tolist()\n",
    "del industry_list[-1]\n",
    "del industry_list[-1]"
   ]
  },
  {
   "cell_type": "code",
   "execution_count": 7,
   "metadata": {},
   "outputs": [],
   "source": [
    "df_more.replace([np.inf, -np.inf], np.nan, inplace=True)"
   ]
  },
  {
   "cell_type": "code",
   "execution_count": 8,
   "metadata": {},
   "outputs": [
    {
     "data": {
      "text/plain": [
       "masked_array(data=[ 0.33715018,  0.21003221, -0.47542827, ...,\n",
       "                    0.28896335, -1.12921415, -0.44195264],\n",
       "             mask=False,\n",
       "       fill_value=1e+20)"
      ]
     },
     "execution_count": 8,
     "metadata": {},
     "output_type": "execute_result"
    }
   ],
   "source": [
    "df_more_clean = df_more.dropna(subset=['op_profit_margin', 'anual_cc_return', 'eps'])\n",
    "winsorize(df_more_clean['op_profit_margin'], limits=[0.01,0.01],  inplace=True)\n",
    "winsorize(df_more_clean['anual_cc_return'], limits=[0.01,0.01],inplace=True)\n",
    "winsorize(df_more_clean['eps'], limits=[0.01,0.01], inplace=True)"
   ]
  },
  {
   "cell_type": "code",
   "execution_count": 9,
   "metadata": {},
   "outputs": [],
   "source": [
    "df_more['epsp'] = df_more['eps'] / df_more['originalprice']"
   ]
  },
  {
   "cell_type": "code",
   "execution_count": 10,
   "metadata": {},
   "outputs": [],
   "source": [
    "df_finance = df_more[df_more['industry'] == 'Finance'].copy()\n",
    "df_finance['short_leverage'] = df_finance['shortdebt'] / df_finance['totalassets']\n",
    "df_finance['bmr'] = df_finance['bookvalue'] / df_finance['marketvalue']\n",
    "\n",
    "df_finance.replace([np.inf, -np.inf], np.nan, inplace=True)"
   ]
  },
  {
   "cell_type": "code",
   "execution_count": 11,
   "metadata": {},
   "outputs": [],
   "source": [
    "df_finance_train = df_finance.copy()\n",
    "df_finance_train = df_finance_train.dropna(subset=['op_profit_margin', 'short_leverage', 'bmr', 'epsp', 'anual_cc_return_future'])"
   ]
  },
  {
   "cell_type": "code",
   "execution_count": 12,
   "metadata": {},
   "outputs": [],
   "source": [
    "df_finance_train['op_profit_margin'] = winsorize(df_finance_train['op_profit_margin'], limits=[0.01,0.01])\n",
    "df_finance_train['short_leverage'] = winsorize(df_finance_train['short_leverage'], limits=[0.01,0.01])\n",
    "df_finance_train['bmr'] = winsorize(df_finance_train['bmr'], limits=[0.01,0.01])\n",
    "df_finance_train['epsp'] = winsorize(df_finance_train['epsp'], limits=[0.01,0.01])"
   ]
  },
  {
   "cell_type": "code",
   "execution_count": 13,
   "metadata": {},
   "outputs": [],
   "source": [
    "df_finance_train['size_d1'] = 0\n",
    "df_finance_train['size_d2'] = 0"
   ]
  },
  {
   "cell_type": "code",
   "execution_count": 14,
   "metadata": {},
   "outputs": [],
   "source": [
    "df_finance_train_copy = df_finance_train.copy()\n",
    "df_finance_train_date_size = df_finance_train_copy.sort_values(['date', 'marketvalue']).groupby('date')\n",
    "df_finance_train_date_size[['marketvalue', 'date', 'q']].head()\n",
    "#len(df_finance_train_date_size['date'].unique())\n",
    "#df_finance_train_date_size['date'].head()\n",
    "\n",
    "count = 0\n",
    "for date in df_finance_train_copy['date'].unique():\n",
    "    df_date = df_finance_train_copy.loc[df_finance_train_copy['date'] == date]\n",
    "    \n",
    "    size_total = df_date['marketvalue'].count()\n",
    "    size_per = size_total // 3\n",
    "    \n",
    "    df_date_size_sort = df_date.sort_values('marketvalue')\n",
    "    #df_date_size_sort.reset_index()\n",
    "    #if(count == 0):\n",
    "    #    print(df_date_size_sort[['size_d1', 'marketvalue']].head())\n",
    "    #df_date_size_sort['size_d1'].iloc[size_per:(2 * size_per - 1)] = 1\n",
    "    #df_date_size_sort['size_d2'].iloc[(2 * size_per) :] = 1\n",
    "\n",
    "    for firm in df_date_size_sort['firm'].iloc[size_per:(2 * size_per - 1)]:\n",
    "        df_finance_train_copy.loc[(df_finance_train_copy['firm'] == firm) & (df_finance_train_copy['date'] == date), 'size_d1'] = 1\n",
    "        #if(count == 0):\n",
    "        #    print(df_finance_train_copy[(df_finance_train_copy['firm'] == firm) & (df_finance_train_copy['date'] == date)].index.to_list()[0])\n",
    "\n",
    "    for firm in df_date_size_sort['firm'].iloc[(2 * size_per) :]:\n",
    "        df_finance_train_copy.loc[(df_finance_train_copy['firm'] == firm) & (df_finance_train_copy['date'] == date), 'size_d2'] = 1\n",
    "\n",
    "\n",
    "    count += 1\n",
    "\n",
    "#print(count)\n",
    "#df_finance_train_copy.isna().sum()\n",
    "#df_finance_train_copy[['date', 'marketvalue', 'size_d1', 'size_d2']].head(40)\n",
    "#print(df_finance_train_copy['size_d1'].unique())\n",
    "#print(df_finance_train_copy['size_d2'].unique())"
   ]
  },
  {
   "cell_type": "markdown",
   "metadata": {},
   "source": [
    "CHOOSE THE X AND Y FOR LINEAR REGRESSION"
   ]
  },
  {
   "cell_type": "code",
   "execution_count": null,
   "metadata": {},
   "outputs": [],
   "source": [
    "X = df_finance_train_copy[['op_profit_margin', 'short_leverage', 'bmr', 'epsp', 'size_d1', 'size_d2']]\n",
    "y = df_finance_train_copy['anual_cc_return_future']"
   ]
  },
  {
   "cell_type": "markdown",
   "metadata": {},
   "source": [
    "ADD THE CONSTANCE FOR THE X MATRIX  \n",
    "AND DO THE LINEAR REGRESSION FROM PYTHON DIRECTLY"
   ]
  },
  {
   "cell_type": "code",
   "execution_count": null,
   "metadata": {},
   "outputs": [
    {
     "data": {
      "text/html": [
       "<table class=\"simpletable\">\n",
       "<caption>OLS Regression Results</caption>\n",
       "<tr>\n",
       "  <th>Dep. Variable:</th>    <td>anual_cc_return_future</td> <th>  R-squared:         </th> <td>   0.069</td> \n",
       "</tr>\n",
       "<tr>\n",
       "  <th>Model:</th>                      <td>OLS</td>          <th>  Adj. R-squared:    </th> <td>   0.068</td> \n",
       "</tr>\n",
       "<tr>\n",
       "  <th>Method:</th>                <td>Least Squares</td>     <th>  F-statistic:       </th> <td>   90.87</td> \n",
       "</tr>\n",
       "<tr>\n",
       "  <th>Date:</th>                <td>Wed, 26 Oct 2022</td>    <th>  Prob (F-statistic):</th> <td>2.06e-110</td>\n",
       "</tr>\n",
       "<tr>\n",
       "  <th>Time:</th>                    <td>00:32:37</td>        <th>  Log-Likelihood:    </th> <td> -5522.4</td> \n",
       "</tr>\n",
       "<tr>\n",
       "  <th>No. Observations:</th>         <td>  7346</td>         <th>  AIC:               </th> <td>1.106e+04</td>\n",
       "</tr>\n",
       "<tr>\n",
       "  <th>Df Residuals:</th>             <td>  7339</td>         <th>  BIC:               </th> <td>1.111e+04</td>\n",
       "</tr>\n",
       "<tr>\n",
       "  <th>Df Model:</th>                 <td>     6</td>         <th>                     </th>     <td> </td>    \n",
       "</tr>\n",
       "<tr>\n",
       "  <th>Covariance Type:</th>         <td>nonrobust</td>       <th>                     </th>     <td> </td>    \n",
       "</tr>\n",
       "</table>\n",
       "<table class=\"simpletable\">\n",
       "<tr>\n",
       "          <td></td>            <th>coef</th>     <th>std err</th>      <th>t</th>      <th>P>|t|</th>  <th>[0.025</th>    <th>0.975]</th>  \n",
       "</tr>\n",
       "<tr>\n",
       "  <th>const</th>            <td>    0.1238</td> <td>    0.013</td> <td>    9.699</td> <td> 0.000</td> <td>    0.099</td> <td>    0.149</td>\n",
       "</tr>\n",
       "<tr>\n",
       "  <th>op_profit_margin</th> <td>    0.0451</td> <td>    0.013</td> <td>    3.481</td> <td> 0.001</td> <td>    0.020</td> <td>    0.071</td>\n",
       "</tr>\n",
       "<tr>\n",
       "  <th>short_leverage</th>   <td>   -0.1818</td> <td>    0.060</td> <td>   -3.039</td> <td> 0.002</td> <td>   -0.299</td> <td>   -0.065</td>\n",
       "</tr>\n",
       "<tr>\n",
       "  <th>bmr</th>              <td>   -0.1095</td> <td>    0.009</td> <td>  -11.812</td> <td> 0.000</td> <td>   -0.128</td> <td>   -0.091</td>\n",
       "</tr>\n",
       "<tr>\n",
       "  <th>epsp</th>             <td>    1.9439</td> <td>    0.137</td> <td>   14.144</td> <td> 0.000</td> <td>    1.674</td> <td>    2.213</td>\n",
       "</tr>\n",
       "<tr>\n",
       "  <th>size_d1</th>          <td>    0.0121</td> <td>    0.015</td> <td>    0.800</td> <td> 0.424</td> <td>   -0.018</td> <td>    0.042</td>\n",
       "</tr>\n",
       "<tr>\n",
       "  <th>size_d2</th>          <td>    0.0181</td> <td>    0.015</td> <td>    1.200</td> <td> 0.230</td> <td>   -0.012</td> <td>    0.048</td>\n",
       "</tr>\n",
       "</table>\n",
       "<table class=\"simpletable\">\n",
       "<tr>\n",
       "  <th>Omnibus:</th>       <td>1970.316</td> <th>  Durbin-Watson:     </th> <td>   0.814</td> \n",
       "</tr>\n",
       "<tr>\n",
       "  <th>Prob(Omnibus):</th>  <td> 0.000</td>  <th>  Jarque-Bera (JB):  </th> <td>54621.546</td>\n",
       "</tr>\n",
       "<tr>\n",
       "  <th>Skew:</th>           <td>-0.683</td>  <th>  Prob(JB):          </th> <td>    0.00</td> \n",
       "</tr>\n",
       "<tr>\n",
       "  <th>Kurtosis:</th>       <td>16.289</td>  <th>  Cond. No.          </th> <td>    29.9</td> \n",
       "</tr>\n",
       "</table><br/><br/>Notes:<br/>[1] Standard Errors assume that the covariance matrix of the errors is correctly specified."
      ],
      "text/plain": [
       "<class 'statsmodels.iolib.summary.Summary'>\n",
       "\"\"\"\n",
       "                              OLS Regression Results                              \n",
       "==================================================================================\n",
       "Dep. Variable:     anual_cc_return_future   R-squared:                       0.069\n",
       "Model:                                OLS   Adj. R-squared:                  0.068\n",
       "Method:                     Least Squares   F-statistic:                     90.87\n",
       "Date:                    Wed, 26 Oct 2022   Prob (F-statistic):          2.06e-110\n",
       "Time:                            00:32:37   Log-Likelihood:                -5522.4\n",
       "No. Observations:                    7346   AIC:                         1.106e+04\n",
       "Df Residuals:                        7339   BIC:                         1.111e+04\n",
       "Df Model:                               6                                         \n",
       "Covariance Type:                nonrobust                                         \n",
       "====================================================================================\n",
       "                       coef    std err          t      P>|t|      [0.025      0.975]\n",
       "------------------------------------------------------------------------------------\n",
       "const                0.1238      0.013      9.699      0.000       0.099       0.149\n",
       "op_profit_margin     0.0451      0.013      3.481      0.001       0.020       0.071\n",
       "short_leverage      -0.1818      0.060     -3.039      0.002      -0.299      -0.065\n",
       "bmr                 -0.1095      0.009    -11.812      0.000      -0.128      -0.091\n",
       "epsp                 1.9439      0.137     14.144      0.000       1.674       2.213\n",
       "size_d1              0.0121      0.015      0.800      0.424      -0.018       0.042\n",
       "size_d2              0.0181      0.015      1.200      0.230      -0.012       0.048\n",
       "==============================================================================\n",
       "Omnibus:                     1970.316   Durbin-Watson:                   0.814\n",
       "Prob(Omnibus):                  0.000   Jarque-Bera (JB):            54621.546\n",
       "Skew:                          -0.683   Prob(JB):                         0.00\n",
       "Kurtosis:                      16.289   Cond. No.                         29.9\n",
       "==============================================================================\n",
       "\n",
       "Notes:\n",
       "[1] Standard Errors assume that the covariance matrix of the errors is correctly specified.\n",
       "\"\"\""
      ]
     },
     "metadata": {},
     "output_type": "display_data"
    }
   ],
   "source": [
    "X_C = sm.add_constant(X)\n",
    "mkmodel = sm.OLS(y,X_C).fit()\n",
    "mkmodel.summary()"
   ]
  },
  {
   "cell_type": "markdown",
   "metadata": {},
   "source": [
    "# 1 Perform an exploratory analysis of the variables:(You have to use matrix algebra and check results with Python functions.)"
   ]
  },
  {
   "cell_type": "markdown",
   "metadata": {},
   "source": [
    "## 1.1 Calculates variance and covariance matrix,   \n",
    "## as well as correlation matrix of the independent and dependent variables"
   ]
  },
  {
   "cell_type": "markdown",
   "metadata": {},
   "source": [
    "TURN THE X Y AND X WITH CONSTANCE TO THE NUMPY MATRIX"
   ]
  },
  {
   "cell_type": "code",
   "execution_count": 226,
   "metadata": {},
   "outputs": [],
   "source": [
    "X_Mat = X.to_numpy()\n",
    "X_C_Mat = X_C.to_numpy()\n",
    "Y_Mat = y.to_numpy()"
   ]
  },
  {
   "cell_type": "markdown",
   "metadata": {},
   "source": [
    "### **CALCULATE CORRELATION MATRIX**  \n",
    "CORR_MAT = NORMAL(X)' .  NORMAL(X)"
   ]
  },
  {
   "cell_type": "markdown",
   "metadata": {},
   "source": [
    "CALCULATE THE MEAN OF X_MAT"
   ]
  },
  {
   "cell_type": "code",
   "execution_count": 227,
   "metadata": {},
   "outputs": [],
   "source": [
    "N = X_Mat.shape[0]\n",
    "X_Mean_Sig_Mat =  (np.ones((1, N))).dot(X_Mat) / N"
   ]
  },
  {
   "cell_type": "code",
   "execution_count": 228,
   "metadata": {},
   "outputs": [],
   "source": [
    "X_Mean_Mat = (np.ones((N, 1))).dot(X_Mean_Sig_Mat)"
   ]
  },
  {
   "cell_type": "markdown",
   "metadata": {},
   "source": [
    "CALCULATE THE STANDARD DEVIATION OF X_MAT"
   ]
  },
  {
   "cell_type": "code",
   "execution_count": 229,
   "metadata": {},
   "outputs": [],
   "source": [
    "X_E_Mat = X_Mat - X_Mean_Mat"
   ]
  },
  {
   "cell_type": "code",
   "execution_count": 230,
   "metadata": {},
   "outputs": [],
   "source": [
    "X_SE_Sig_Mat = np.sqrt(np.ones((1, N)).dot((X_E_Mat * X_E_Mat)) / (N - 1)) #/ math.sqrt(N)"
   ]
  },
  {
   "cell_type": "code",
   "execution_count": 231,
   "metadata": {},
   "outputs": [],
   "source": [
    "X_SE_Mat = np.ones((N,1)).dot(X_SE_Sig_Mat)"
   ]
  },
  {
   "cell_type": "markdown",
   "metadata": {},
   "source": [
    "NORMALIZE THE X_MAT"
   ]
  },
  {
   "cell_type": "code",
   "execution_count": 225,
   "metadata": {},
   "outputs": [],
   "source": [
    "X_Norm_Mat = X_E_Mat / X_SE_Mat"
   ]
  },
  {
   "cell_type": "markdown",
   "metadata": {},
   "source": [
    "CALCULATE THE CORRELATION MATRIX OF X_MAT"
   ]
  },
  {
   "cell_type": "code",
   "execution_count": 218,
   "metadata": {},
   "outputs": [
    {
     "data": {
      "text/plain": [
       "array([[ 1.        , -0.00954724, -0.09703459,  0.37558602,  0.02214399,\n",
       "         0.14547849],\n",
       "       [-0.00954724,  1.        ,  0.07404696, -0.010406  ,  0.07816235,\n",
       "        -0.07224123],\n",
       "       [-0.09703459,  0.07404696,  1.        , -0.14765687, -0.05835378,\n",
       "        -0.170659  ],\n",
       "       [ 0.37558602, -0.010406  , -0.14765687,  1.        ,  0.06215465,\n",
       "         0.10128666],\n",
       "       [ 0.02214399,  0.07816235, -0.05835378,  0.06215465,  1.        ,\n",
       "        -0.49113187],\n",
       "       [ 0.14547849, -0.07224123, -0.170659  ,  0.10128666, -0.49113187,\n",
       "         1.        ]])"
      ]
     },
     "execution_count": 218,
     "metadata": {},
     "output_type": "execute_result"
    }
   ],
   "source": [
    "Corr_Mat = (X_Norm_Mat.transpose()).dot(X_Norm_Mat)\n",
    "Normal = Corr_Mat[0,0]\n",
    "Corr_Mat = Corr_Mat / Normal\n",
    "Corr_Mat"
   ]
  },
  {
   "cell_type": "markdown",
   "metadata": {},
   "source": [
    "VERIFY WITH PYTHON CODE"
   ]
  },
  {
   "cell_type": "code",
   "execution_count": 196,
   "metadata": {},
   "outputs": [
    {
     "data": {
      "text/html": [
       "<div>\n",
       "<style scoped>\n",
       "    .dataframe tbody tr th:only-of-type {\n",
       "        vertical-align: middle;\n",
       "    }\n",
       "\n",
       "    .dataframe tbody tr th {\n",
       "        vertical-align: top;\n",
       "    }\n",
       "\n",
       "    .dataframe thead th {\n",
       "        text-align: right;\n",
       "    }\n",
       "</style>\n",
       "<table border=\"1\" class=\"dataframe\">\n",
       "  <thead>\n",
       "    <tr style=\"text-align: right;\">\n",
       "      <th></th>\n",
       "      <th>op_profit_margin</th>\n",
       "      <th>short_leverage</th>\n",
       "      <th>bmr</th>\n",
       "      <th>epsp</th>\n",
       "      <th>size_d1</th>\n",
       "      <th>size_d2</th>\n",
       "    </tr>\n",
       "  </thead>\n",
       "  <tbody>\n",
       "    <tr>\n",
       "      <th>op_profit_margin</th>\n",
       "      <td>1.000000</td>\n",
       "      <td>-0.009547</td>\n",
       "      <td>-0.097035</td>\n",
       "      <td>0.375586</td>\n",
       "      <td>0.022144</td>\n",
       "      <td>0.145478</td>\n",
       "    </tr>\n",
       "    <tr>\n",
       "      <th>short_leverage</th>\n",
       "      <td>-0.009547</td>\n",
       "      <td>1.000000</td>\n",
       "      <td>0.074047</td>\n",
       "      <td>-0.010406</td>\n",
       "      <td>0.078162</td>\n",
       "      <td>-0.072241</td>\n",
       "    </tr>\n",
       "    <tr>\n",
       "      <th>bmr</th>\n",
       "      <td>-0.097035</td>\n",
       "      <td>0.074047</td>\n",
       "      <td>1.000000</td>\n",
       "      <td>-0.147657</td>\n",
       "      <td>-0.058354</td>\n",
       "      <td>-0.170659</td>\n",
       "    </tr>\n",
       "    <tr>\n",
       "      <th>epsp</th>\n",
       "      <td>0.375586</td>\n",
       "      <td>-0.010406</td>\n",
       "      <td>-0.147657</td>\n",
       "      <td>1.000000</td>\n",
       "      <td>0.062155</td>\n",
       "      <td>0.101287</td>\n",
       "    </tr>\n",
       "    <tr>\n",
       "      <th>size_d1</th>\n",
       "      <td>0.022144</td>\n",
       "      <td>0.078162</td>\n",
       "      <td>-0.058354</td>\n",
       "      <td>0.062155</td>\n",
       "      <td>1.000000</td>\n",
       "      <td>-0.491132</td>\n",
       "    </tr>\n",
       "    <tr>\n",
       "      <th>size_d2</th>\n",
       "      <td>0.145478</td>\n",
       "      <td>-0.072241</td>\n",
       "      <td>-0.170659</td>\n",
       "      <td>0.101287</td>\n",
       "      <td>-0.491132</td>\n",
       "      <td>1.000000</td>\n",
       "    </tr>\n",
       "  </tbody>\n",
       "</table>\n",
       "</div>"
      ],
      "text/plain": [
       "                  op_profit_margin  short_leverage       bmr      epsp  \\\n",
       "op_profit_margin          1.000000       -0.009547 -0.097035  0.375586   \n",
       "short_leverage           -0.009547        1.000000  0.074047 -0.010406   \n",
       "bmr                      -0.097035        0.074047  1.000000 -0.147657   \n",
       "epsp                      0.375586       -0.010406 -0.147657  1.000000   \n",
       "size_d1                   0.022144        0.078162 -0.058354  0.062155   \n",
       "size_d2                   0.145478       -0.072241 -0.170659  0.101287   \n",
       "\n",
       "                   size_d1   size_d2  \n",
       "op_profit_margin  0.022144  0.145478  \n",
       "short_leverage    0.078162 -0.072241  \n",
       "bmr              -0.058354 -0.170659  \n",
       "epsp              0.062155  0.101287  \n",
       "size_d1           1.000000 -0.491132  \n",
       "size_d2          -0.491132  1.000000  "
      ]
     },
     "execution_count": 196,
     "metadata": {},
     "output_type": "execute_result"
    }
   ],
   "source": [
    "#np.correlate(X_Mat, X_Mat)\n",
    "X.corr()\n"
   ]
  },
  {
   "cell_type": "markdown",
   "metadata": {},
   "source": [
    "## Interpret the correlation matrix."
   ]
  },
  {
   "cell_type": "markdown",
   "metadata": {},
   "source": [
    "CORRELATION MATRIX INDICATE THE CORRELATION BETWEEN EACH INDEPENDENT VARIABLES  \n",
    "IT IS BETWEEN -1 TO 1"
   ]
  },
  {
   "cell_type": "markdown",
   "metadata": {},
   "source": [
    "VarCov(X) = (1/(N - 1)) ( X'.X - (1/N)*(X'.1).(X'.1) )"
   ]
  },
  {
   "cell_type": "code",
   "execution_count": 234,
   "metadata": {},
   "outputs": [
    {
     "data": {
      "text/plain": [
       "array([[ 2.53174399e-01, -1.25669057e-02,  2.70537373e-02,\n",
       "        -8.11263189e-03,  2.96195907e-02,  6.26491380e-02],\n",
       "       [ 3.41634333e-03,  1.01522736e-02,  2.82165754e-02,\n",
       "        -1.66912234e-03,  1.54518836e-02,  9.45541582e-03],\n",
       "       [-2.93129053e-01, -3.07949464e-01,  4.50336091e-01,\n",
       "        -3.39501933e-01, -1.72215243e-01, -1.93233484e-01],\n",
       "       [ 9.69884925e-03,  1.59109747e-04, -1.50766223e-03,\n",
       "         2.26123515e-03,  3.10508469e-03,  4.16076934e-03],\n",
       "       [-5.27230772e-02, -8.28740334e-02,  6.56248797e-02,\n",
       "        -9.70490643e-02,  2.16356753e-01, -1.00185113e-01],\n",
       "       [-3.68301719e-02, -1.06007143e-01,  2.74699959e-02,\n",
       "        -1.13130022e-01, -1.17321755e-01,  2.25224195e-01]])"
      ]
     },
     "execution_count": 234,
     "metadata": {},
     "output_type": "execute_result"
    }
   ],
   "source": [
    "VarCov_Mat = ((X_Mat.transpose()).dot(X_Mat) - np.square((X_Mat.transpose()).dot(np.ones((N,1))))/N)/(N-1)\n",
    "VarCov_Mat"
   ]
  },
  {
   "cell_type": "markdown",
   "metadata": {},
   "source": [
    "VARIANCE"
   ]
  },
  {
   "cell_type": "code",
   "execution_count": 238,
   "metadata": {},
   "outputs": [
    {
     "data": {
      "text/plain": [
       "array([[0.2531744 ],\n",
       "       [0.01015227],\n",
       "       [0.45033609],\n",
       "       [0.00226124],\n",
       "       [0.21635675],\n",
       "       [0.2252242 ]])"
      ]
     },
     "execution_count": 238,
     "metadata": {},
     "output_type": "execute_result"
    }
   ],
   "source": [
    "(VarCov_Mat * np.eye(VarCov_Mat.shape[0])).dot(np.ones((VarCov_Mat.shape[0], 1)))"
   ]
  },
  {
   "cell_type": "markdown",
   "metadata": {},
   "source": [
    "VARIFY WITH PYTHON CODE"
   ]
  },
  {
   "cell_type": "code",
   "execution_count": null,
   "metadata": {},
   "outputs": [
    {
     "data": {
      "text/plain": [
       "op_profit_margin    0.253174\n",
       "short_leverage      0.010152\n",
       "bmr                 0.450336\n",
       "epsp                0.002261\n",
       "size_d1             0.216357\n",
       "size_d2             0.225224\n",
       "dtype: float64"
      ]
     },
     "metadata": {},
     "output_type": "display_data"
    }
   ],
   "source": [
    "X.var()"
   ]
  },
  {
   "cell_type": "code",
   "execution_count": null,
   "metadata": {},
   "outputs": [
    {
     "data": {
      "text/html": [
       "<div>\n",
       "<style scoped>\n",
       "    .dataframe tbody tr th:only-of-type {\n",
       "        vertical-align: middle;\n",
       "    }\n",
       "\n",
       "    .dataframe tbody tr th {\n",
       "        vertical-align: top;\n",
       "    }\n",
       "\n",
       "    .dataframe thead th {\n",
       "        text-align: right;\n",
       "    }\n",
       "</style>\n",
       "<table border=\"1\" class=\"dataframe\">\n",
       "  <thead>\n",
       "    <tr style=\"text-align: right;\">\n",
       "      <th></th>\n",
       "      <th>op_profit_margin</th>\n",
       "      <th>short_leverage</th>\n",
       "      <th>bmr</th>\n",
       "      <th>epsp</th>\n",
       "      <th>size_d1</th>\n",
       "      <th>size_d2</th>\n",
       "    </tr>\n",
       "  </thead>\n",
       "  <tbody>\n",
       "    <tr>\n",
       "      <th>op_profit_margin</th>\n",
       "      <td>0.253174</td>\n",
       "      <td>-0.000484</td>\n",
       "      <td>-0.032765</td>\n",
       "      <td>0.008987</td>\n",
       "      <td>0.005183</td>\n",
       "      <td>0.034739</td>\n",
       "    </tr>\n",
       "    <tr>\n",
       "      <th>short_leverage</th>\n",
       "      <td>-0.000484</td>\n",
       "      <td>0.010152</td>\n",
       "      <td>0.005007</td>\n",
       "      <td>-0.000050</td>\n",
       "      <td>0.003663</td>\n",
       "      <td>-0.003454</td>\n",
       "    </tr>\n",
       "    <tr>\n",
       "      <th>bmr</th>\n",
       "      <td>-0.032765</td>\n",
       "      <td>0.005007</td>\n",
       "      <td>0.450336</td>\n",
       "      <td>-0.004712</td>\n",
       "      <td>-0.018215</td>\n",
       "      <td>-0.054351</td>\n",
       "    </tr>\n",
       "    <tr>\n",
       "      <th>epsp</th>\n",
       "      <td>0.008987</td>\n",
       "      <td>-0.000050</td>\n",
       "      <td>-0.004712</td>\n",
       "      <td>0.002261</td>\n",
       "      <td>0.001375</td>\n",
       "      <td>0.002286</td>\n",
       "    </tr>\n",
       "    <tr>\n",
       "      <th>size_d1</th>\n",
       "      <td>0.005183</td>\n",
       "      <td>0.003663</td>\n",
       "      <td>-0.018215</td>\n",
       "      <td>0.001375</td>\n",
       "      <td>0.216357</td>\n",
       "      <td>-0.108415</td>\n",
       "    </tr>\n",
       "    <tr>\n",
       "      <th>size_d2</th>\n",
       "      <td>0.034739</td>\n",
       "      <td>-0.003454</td>\n",
       "      <td>-0.054351</td>\n",
       "      <td>0.002286</td>\n",
       "      <td>-0.108415</td>\n",
       "      <td>0.225224</td>\n",
       "    </tr>\n",
       "  </tbody>\n",
       "</table>\n",
       "</div>"
      ],
      "text/plain": [
       "                  op_profit_margin  short_leverage       bmr      epsp  \\\n",
       "op_profit_margin          0.253174       -0.000484 -0.032765  0.008987   \n",
       "short_leverage           -0.000484        0.010152  0.005007 -0.000050   \n",
       "bmr                      -0.032765        0.005007  0.450336 -0.004712   \n",
       "epsp                      0.008987       -0.000050 -0.004712  0.002261   \n",
       "size_d1                   0.005183        0.003663 -0.018215  0.001375   \n",
       "size_d2                   0.034739       -0.003454 -0.054351  0.002286   \n",
       "\n",
       "                   size_d1   size_d2  \n",
       "op_profit_margin  0.005183  0.034739  \n",
       "short_leverage    0.003663 -0.003454  \n",
       "bmr              -0.018215 -0.054351  \n",
       "epsp              0.001375  0.002286  \n",
       "size_d1           0.216357 -0.108415  \n",
       "size_d2          -0.108415  0.225224  "
      ]
     },
     "metadata": {},
     "output_type": "display_data"
    }
   ],
   "source": [
    "X.cov()"
   ]
  },
  {
   "cell_type": "markdown",
   "metadata": {},
   "source": [
    "## Explain what variance, covariance, and correlation are."
   ]
  },
  {
   "cell_type": "markdown",
   "metadata": {},
   "source": [
    "**Variance**, is a measure of variability from the mean  \n",
    "\n",
    "**Covariance**, is a measure of relationship between the variability of 2 variables  \n",
    "It is the Average of the Product Deviations from the mean of each variable  \n",
    "We can not understand the magnitude of Covariance   \n",
    "\n",
    "**Correlation**, is a relationship between the variability of 2 variables  \n",
    "Correlation is standarized, value between -1 and 1"
   ]
  },
  {
   "cell_type": "markdown",
   "metadata": {},
   "source": [
    "### Use the Variant Covariant Matrix  \n",
    "### Run statistical tests to detect outliers and leverage points.  \n",
    "### You have to use matrix algebra for the proofs and clearly explain how the proofs work.  \n",
    "### You can use Python functions to check results."
   ]
  },
  {
   "cell_type": "markdown",
   "metadata": {},
   "source": [
    "**CALCULATE THE COEFFICIENT MATRIX B**  \n",
    "\n",
    "B=(X'.X)^(-1) . X' . Y"
   ]
  },
  {
   "cell_type": "code",
   "execution_count": 60,
   "metadata": {},
   "outputs": [
    {
     "data": {
      "text/plain": [
       "array([ 0.12378316,  0.0451271 , -0.18181964, -0.10952051,  1.9438988 ,\n",
       "        0.01210472,  0.01814835])"
      ]
     },
     "execution_count": 60,
     "metadata": {},
     "output_type": "execute_result"
    }
   ],
   "source": [
    "X_C_T_Mat = X_C_Mat.transpose()\n",
    "B_Mat = ((np.linalg.inv(X_C_T_Mat.dot(X_C_Mat))).dot(X_C_T_Mat)).dot(Y_Mat)\n",
    "B_Mat\n"
   ]
  },
  {
   "cell_type": "markdown",
   "metadata": {},
   "source": [
    "**CALCULATE HAT MATRIX H**  \n",
    "Y_H = H . Y\n",
    "Y_H = X.B\n",
    "H = X.(X'.X)^(-1).X'"
   ]
  },
  {
   "cell_type": "code",
   "execution_count": 63,
   "metadata": {},
   "outputs": [
    {
     "data": {
      "text/plain": [
       "array([[0.00112381, 0.00062822, 0.00110993, ..., 0.00030945, 0.00032743,\n",
       "        0.00023321],\n",
       "       [0.00062822, 0.00057693, 0.00062937, ..., 0.00035475, 0.00049713,\n",
       "        0.00030562],\n",
       "       [0.00110993, 0.00062937, 0.00111979, ..., 0.00033705, 0.00066578,\n",
       "        0.00036171],\n",
       "       ...,\n",
       "       [0.00030945, 0.00035475, 0.00033705, ..., 0.00173432, 0.00246757,\n",
       "        0.00158535],\n",
       "       [0.00032743, 0.00049713, 0.00066578, ..., 0.00246757, 0.00739518,\n",
       "        0.00357407],\n",
       "       [0.00023321, 0.00030562, 0.00036171, ..., 0.00158535, 0.00357407,\n",
       "        0.00192636]])"
      ]
     },
     "execution_count": 63,
     "metadata": {},
     "output_type": "execute_result"
    }
   ],
   "source": [
    "H_Mat = (X_C_Mat.dot(np.linalg.inv(X_C_T_Mat.dot(X_C_Mat)))).dot(X_C_T_Mat)\n",
    "H_Mat"
   ]
  },
  {
   "cell_type": "code",
   "execution_count": 85,
   "metadata": {},
   "outputs": [
    {
     "data": {
      "text/plain": [
       "array([[0.00112381, 0.        , 0.        , ..., 0.        , 0.        ,\n",
       "        0.        ],\n",
       "       [0.        , 0.00057693, 0.        , ..., 0.        , 0.        ,\n",
       "        0.        ],\n",
       "       [0.        , 0.        , 0.00111979, ..., 0.        , 0.        ,\n",
       "        0.        ],\n",
       "       ...,\n",
       "       [0.        , 0.        , 0.        , ..., 0.00173432, 0.        ,\n",
       "        0.        ],\n",
       "       [0.        , 0.        , 0.        , ..., 0.        , 0.00739518,\n",
       "        0.        ],\n",
       "       [0.        , 0.        , 0.        , ..., 0.        , 0.        ,\n",
       "        0.00192636]])"
      ]
     },
     "execution_count": 85,
     "metadata": {},
     "output_type": "execute_result"
    }
   ],
   "source": [
    "H_One_Mat = H_Mat * np.eye(H_Mat.shape[0])\n",
    "H_One_Mat"
   ]
  },
  {
   "cell_type": "markdown",
   "metadata": {},
   "source": [
    "**THE THRESHOLD OF LEVERAGE OF EXTREME X VALUES**  \n",
    "H_MAT > 3*((k + 1) / n)"
   ]
  },
  {
   "cell_type": "code",
   "execution_count": 96,
   "metadata": {},
   "outputs": [
    {
     "data": {
      "text/plain": [
       "0.0028586986114892458"
      ]
     },
     "execution_count": 96,
     "metadata": {},
     "output_type": "execute_result"
    }
   ],
   "source": [
    "H_THRESHOLD = 3 * (X_C_Mat.shape[1] / H_Mat.shape[0])\n",
    "H_THRESHOLD"
   ]
  },
  {
   "cell_type": "code",
   "execution_count": 93,
   "metadata": {},
   "outputs": [],
   "source": [
    "row_leverage, col_leverage = np.where(H_One_Mat > H_THRESHOLD)"
   ]
  },
  {
   "cell_type": "code",
   "execution_count": 104,
   "metadata": {},
   "outputs": [
    {
     "data": {
      "text/plain": [
       "array([0.00286952, 0.00301909, 0.00573383, 0.0077137 , 0.00399231,\n",
       "       0.0030085 , 0.00329829, 0.00809931, 0.00640198, 0.00616369])"
      ]
     },
     "execution_count": 104,
     "metadata": {},
     "output_type": "execute_result"
    }
   ],
   "source": [
    "H_Mat[row_leverage[:10], col_leverage[:10]]"
   ]
  },
  {
   "cell_type": "markdown",
   "metadata": {},
   "source": [
    "**RED DOT AS THE HIGH LEVERAGE POINT**"
   ]
  },
  {
   "cell_type": "code",
   "execution_count": 112,
   "metadata": {},
   "outputs": [
    {
     "data": {
      "image/png": "[encoded data removed]",
      "text/plain": [
       "<Figure size 640x480 with 1 Axes>"
      ]
     },
     "metadata": {},
     "output_type": "display_data"
    }
   ],
   "source": [
    "X_Index = 3\n",
    "\n",
    "plt.scatter(X_Mat[:,X_Index], Y_Mat)\n",
    "plt.scatter(X_Mat[row_leverage,X_Index], Y_Mat[row_leverage], c='r')\n",
    "plt.xlabel('epsp')\n",
    "plt.ylabel('future return')\n",
    "plt.show()"
   ]
  },
  {
   "cell_type": "markdown",
   "metadata": {},
   "source": [
    "**IDENTIFY OUTLIERS (UNUSUAL Y VALUE)**  \n",
    "E = Y - Y_H  \n",
    "R= E / S(E) = E / SQR( MSE(1 - H) )  \n",
    "\n",
    "**R > 3 WILL BE OUTLIER**"
   ]
  },
  {
   "cell_type": "markdown",
   "metadata": {},
   "source": [
    "**CALCULATE THE EXPECT H**  \n",
    "Y_H = X. B"
   ]
  },
  {
   "cell_type": "code",
   "execution_count": 144,
   "metadata": {},
   "outputs": [
    {
     "data": {
      "text/plain": [
       "array([-0.00188818,  0.02978115, -0.04248028, ..., -0.2747532 ,\n",
       "       -0.88368424, -0.39703753])"
      ]
     },
     "execution_count": 144,
     "metadata": {},
     "output_type": "execute_result"
    }
   ],
   "source": [
    "Y_H_Mat = X_C_Mat.dot(B_Mat)\n",
    "Y_H_Mat"
   ]
  },
  {
   "cell_type": "markdown",
   "metadata": {},
   "source": [
    "**CALCULATE ERROR**  \n",
    "E = Y - Y_H"
   ]
  },
  {
   "cell_type": "code",
   "execution_count": 240,
   "metadata": {},
   "outputs": [],
   "source": [
    "E_Mat = Y_Mat - Y_H_Mat\n",
    "E_Mat = np.reshape(E_Mat, (E_Mat.size, 1))"
   ]
  },
  {
   "cell_type": "markdown",
   "metadata": {},
   "source": [
    "**CALCULATE MSE**  \n",
    "MSE = (SQUAR(E))' . ONE / N"
   ]
  },
  {
   "cell_type": "code",
   "execution_count": 178,
   "metadata": {},
   "outputs": [
    {
     "data": {
      "text/plain": [
       "0.2633244844519785"
      ]
     },
     "execution_count": 178,
     "metadata": {},
     "output_type": "execute_result"
    }
   ],
   "source": [
    "MSE = ((E_Mat * E_Mat).transpose()).dot(np.ones(E_Mat.shape)) / E_Mat.shape[0]\n",
    "MSE = MSE[0][0]\n",
    "MSE"
   ]
  },
  {
   "cell_type": "markdown",
   "metadata": {},
   "source": [
    "GET Hii"
   ]
  },
  {
   "cell_type": "code",
   "execution_count": 114,
   "metadata": {},
   "outputs": [
    {
     "data": {
      "text/plain": [
       "array([[0.00112381],\n",
       "       [0.00057693],\n",
       "       [0.00111979],\n",
       "       ...,\n",
       "       [0.00173432],\n",
       "       [0.00739518],\n",
       "       [0.00192636]])"
      ]
     },
     "execution_count": 114,
     "metadata": {},
     "output_type": "execute_result"
    }
   ],
   "source": [
    "H_Sig_Mat = H_Mat * np.eye(H_Mat.shape[0])\n",
    "H_Sig_Mat = H_Sig_Mat.dot(np.ones((H_Mat.shape[0], 1)))\n",
    "H_Sig_Mat"
   ]
  },
  {
   "cell_type": "markdown",
   "metadata": {},
   "source": [
    "**CALCULATE 1 - Hii**"
   ]
  },
  {
   "cell_type": "code",
   "execution_count": 118,
   "metadata": {},
   "outputs": [
    {
     "data": {
      "text/plain": [
       "array([[0.99887619],\n",
       "       [0.99942307],\n",
       "       [0.99888021],\n",
       "       ...,\n",
       "       [0.99826568],\n",
       "       [0.99260482],\n",
       "       [0.99807364]])"
      ]
     },
     "execution_count": 118,
     "metadata": {},
     "output_type": "execute_result"
    }
   ],
   "source": [
    "One_Minus_H_Sig_Mat = np.ones(H_Sig_Mat.shape) - H_Sig_Mat\n",
    "One_Minus_H_Sig_Mat"
   ]
  },
  {
   "cell_type": "markdown",
   "metadata": {},
   "source": [
    "**GET OUTLIER**  \n",
    "R = E / SQRT(MSE * (1 - Hii))"
   ]
  },
  {
   "cell_type": "code",
   "execution_count": 184,
   "metadata": {},
   "outputs": [],
   "source": [
    "R = E_Mat / np.sqrt(MSE * One_Minus_H_Sig_Mat)"
   ]
  },
  {
   "cell_type": "code",
   "execution_count": 185,
   "metadata": {},
   "outputs": [
    {
     "data": {
      "text/plain": [
       "array([[ 0.1549869 ],\n",
       "       [ 0.45088445],\n",
       "       [ 0.42617757],\n",
       "       ...,\n",
       "       [ 0.3321795 ],\n",
       "       [ 1.16249398],\n",
       "       [-1.03913804]])"
      ]
     },
     "execution_count": 185,
     "metadata": {},
     "output_type": "execute_result"
    }
   ],
   "source": [
    "R"
   ]
  },
  {
   "cell_type": "markdown",
   "metadata": {},
   "source": [
    "WHEN R > 3, THE Y IS THE OUTLIER"
   ]
  },
  {
   "cell_type": "code",
   "execution_count": 186,
   "metadata": {},
   "outputs": [],
   "source": [
    "index_outlier,_ = np.where(abs(R) > 3)"
   ]
  },
  {
   "cell_type": "code",
   "execution_count": 187,
   "metadata": {},
   "outputs": [
    {
     "data": {
      "text/plain": [
       "array([  65,   66,   67,   73,   74,   75,  198,  236,  237,  343,  346,\n",
       "        532,  533,  534,  538,  788,  789,  790,  791, 1004, 1005, 1006,\n",
       "       1093, 1094, 1128, 1129, 1132, 1133, 1177, 1239, 1294, 1308, 1384,\n",
       "       1406, 1458, 1474, 1478, 1484, 1686, 1714, 1715, 1717, 1723, 1747,\n",
       "       1782, 1932, 1936, 2042, 2089, 2292, 2320, 2408, 2459, 2460, 2465,\n",
       "       2466, 2469, 2470, 2544, 2587, 2598, 2599, 2628, 2984, 2985, 3022,\n",
       "       3214, 3221, 3222, 3316, 3317, 3321, 3443, 3444, 3445, 3817, 3818,\n",
       "       3819, 3928, 3929, 3932, 3933, 4036, 4060, 4151, 4348, 4349, 4350,\n",
       "       4645, 4649, 4650, 4651, 4770, 4905, 4906, 4907, 5042, 5301, 5302,\n",
       "       5303, 5388, 5625, 5800, 5801, 6024, 6025, 6026, 6029, 6030, 6281,\n",
       "       6282, 6448, 6449, 6450, 6451, 6582, 6587, 6661, 6662, 6754, 6755,\n",
       "       6756, 6879, 7340])"
      ]
     },
     "execution_count": 187,
     "metadata": {},
     "output_type": "execute_result"
    }
   ],
   "source": [
    "index_outlier"
   ]
  },
  {
   "cell_type": "markdown",
   "metadata": {},
   "source": [
    "**DRAW OUTLIER WITH RED DOT** "
   ]
  },
  {
   "cell_type": "code",
   "execution_count": 188,
   "metadata": {},
   "outputs": [
    {
     "data": {
      "image/png": "[encoded data removed]",
      "text/plain": [
       "<Figure size 640x480 with 1 Axes>"
      ]
     },
     "metadata": {},
     "output_type": "display_data"
    }
   ],
   "source": [
    "X_Index = 3\n",
    "\n",
    "plt.scatter(X_Mat[:,X_Index], Y_Mat)\n",
    "plt.scatter(X_Mat[index_outlier,X_Index], Y_Mat[index_outlier], c='r')\n",
    "plt.xlabel('epsp')\n",
    "plt.ylabel('future return')\n",
    "plt.show()"
   ]
  },
  {
   "cell_type": "markdown",
   "metadata": {},
   "source": [
    "# Does a multicollinearity analysis explaining the test and implications in the model."
   ]
  },
  {
   "cell_type": "markdown",
   "metadata": {},
   "source": [
    "WE CHECK THE CORRELATION MATRIX  \n",
    "CHECK IF THE CORRELATION IS HIGH OR NOT"
   ]
  },
  {
   "cell_type": "code",
   "execution_count": 239,
   "metadata": {},
   "outputs": [
    {
     "data": {
      "text/plain": [
       "array([[ 1.00000000e+00,  1.94657234e-02,  1.65658272e-01,\n",
       "         3.59011367e-02,  1.75125777e-01,  2.96998450e-01],\n",
       "       [ 1.94657234e-02,  4.43200100e-02,  1.10973807e-01,\n",
       "         7.01333717e-04,  6.38745508e-02,  4.17487388e-02],\n",
       "       [ 1.65658272e-01,  1.10973807e-01,  2.90890158e+00,\n",
       "        -5.44873413e-03,  6.11806963e-01,  5.34253696e-01],\n",
       "       [ 3.59011367e-02,  7.01333717e-04, -5.44873413e-03,\n",
       "         8.45777194e-03,  1.15714144e-02,  1.54666876e-02],\n",
       "       [ 1.75125777e-01,  6.38745508e-02,  6.11806963e-01,\n",
       "         1.15714144e-02,  1.16797857e+00,  0.00000000e+00],\n",
       "       [ 2.96998450e-01,  4.17487388e-02,  5.34253696e-01,\n",
       "         1.54666876e-02,  0.00000000e+00,  1.26392864e+00]])"
      ]
     },
     "execution_count": 239,
     "metadata": {},
     "output_type": "execute_result"
    }
   ],
   "source": [
    "Corr_Mat"
   ]
  },
  {
   "cell_type": "markdown",
   "metadata": {},
   "source": [
    "ALL THE CORRELATION ABS IS SMALLER THAN 0.6  \n",
    "WE CAN SAY THE INDEPENDENT VARIABLE IS WITH LOW LINEAR RELATION WITH EACH OTHER\n"
   ]
  },
  {
   "cell_type": "markdown",
   "metadata": {},
   "source": [
    "# Proposes and implements solutions to the problems of the previous points so that the model is the most appropriate."
   ]
  },
  {
   "cell_type": "markdown",
   "metadata": {},
   "source": [
    "**CALCULATE THE COEFFICIENT MATRIX B**  \n",
    "\n",
    "B=(X'.X)^(-1) . X' . Y"
   ]
  },
  {
   "cell_type": "code",
   "execution_count": null,
   "metadata": {},
   "outputs": [
    {
     "data": {
      "text/plain": [
       "array([ 0.12378316,  0.0451271 , -0.18181964, -0.10952051,  1.9438988 ,\n",
       "        0.01210472,  0.01814835])"
      ]
     },
     "metadata": {},
     "output_type": "display_data"
    }
   ],
   "source": [
    "X_C_T_Mat = X_C_Mat.transpose()\n",
    "B_Mat = ((np.linalg.inv(X_C_T_Mat.dot(X_C_Mat))).dot(X_C_T_Mat)).dot(Y_Mat)\n",
    "B_Mat\n"
   ]
  },
  {
   "cell_type": "markdown",
   "metadata": {},
   "source": [
    "# Estimate and interpret a multiple regression model after addressing the previous problems. "
   ]
  },
  {
   "cell_type": "markdown",
   "metadata": {},
   "source": [
    "## ***INTERPRET THE COEFFICIENCE MAGNITUDE***\n",
    "***B_CONST = 0.124***  \n",
    "WHEN THERE IS NO NET INCOME, NOT SHORT DEBT, BOOK_VALUE IS 0, WITH A SMALL OR MEDIA SIZE OF FIRM,  \n",
    "WE WILL STILL HAVE 12.4% ANNUAL RETURN ON STOCK. \n",
    "IT MEANS WITHOUT THE REAL NET INCOME, WE ARE STILL ABLE TO GET ANNUAL RETURN ON STOCK    \n",
    "THE CAPITAL OPERATION CAN INCREASE THE BOOK VALUE  \n",
    "***B_OP_PROFIT_MARGIN = 0.045***  \n",
    "EACH 1% OF PROFIT_MARGIN INCREASE, WILL GIVE A 0.045% OF ANNUAL RETURN INCREASE,  \n",
    "THE DIFFERENCE OF PROFIT_MARGIN DOES NOT AFFECT TOO MUCH ON THE ANNUAL RETURN.  \n",
    "SO THE NETINCOME AMOUNT IS THE BIG PART.  \n",
    "***B_SHORT_LEVERAGE = -0.182***  \n",
    "EACH 1% OF SHORT_LEVERAGE INCREASE, WILL GIVE 0.182% OF ANNUAL RETURN DECREASE,  \n",
    "THE SHORT LEVERAGE WILL MAKE A BIG DIFFERENCE ON THE ANNUAL RETURN,  \n",
    "BECAUSE THE COMPANY NEED TO PAY BACK THE DEBTS IN A SHORT TIME, IT WILL IMPACT HE NET INCOME  \n",
    "***B_BMR = -0.1095***  \n",
    "EACH 1% OF BOOK-MARKET-VALUE-RATIO INCREASE, WILL GIVE 0.1095% DECREASE OF ANNUAL RETURN,   \n",
    "BOOK-MARKET-VALUE-RATIO WILL ALSO AFFECT THE ANNUAL RETURN A LOT,  \n",
    "SINCE THE NET INCOME WILL BE DIVIDED BY B_BMR IN ORDER TO REFLECT THE INVESTER'S GAIN  \n",
    "***B_EPSP = 1.94***  \n",
    "EACH 1% OF EPSP INCREASE, WILL GIVE 1.94% INCREASE ON ANNUAL RETURN,   \n",
    "IT IS THE BIGGEST IMPACT TO THE ANNUAL RETURN,  \n",
    "IT IS DUE TO THE EPSP REFLECT THE RETURN RATE OF INVESTMENT ON STOCK MARKET    \n",
    "***B_SIZE_D2 = 0.0121***  \n",
    "WHEN COMPANY'S MARKET VALUE IS ABOVE 67.77% TOP STOCK MARKET VALUE,   \n",
    "THE FIRM'S ANNUAL RETURN WILL HAVE 1.21% MORE ANNUAL RETURN THAN THE COMPANY BELOW 67.77% TOP MARKET VALUE,  \n",
    "\n"
   ]
  },
  {
   "cell_type": "markdown",
   "metadata": {},
   "source": [
    "# You have to use matrix algebra to estimate coefficients and standard errors of the regression model, and use Python functions to check results."
   ]
  },
  {
   "cell_type": "markdown",
   "metadata": {},
   "source": [
    "**CALCULATE THE EXPECT H**  \n",
    "Y_H = X. B"
   ]
  },
  {
   "cell_type": "code",
   "execution_count": null,
   "metadata": {},
   "outputs": [
    {
     "data": {
      "text/plain": [
       "array([-0.00188818,  0.02978115, -0.04248028, ..., -0.2747532 ,\n",
       "       -0.88368424, -0.39703753])"
      ]
     },
     "metadata": {},
     "output_type": "display_data"
    }
   ],
   "source": [
    "Y_H_Mat = X_C_Mat.dot(B_Mat)\n",
    "Y_H_Mat"
   ]
  },
  {
   "cell_type": "markdown",
   "metadata": {},
   "source": [
    "VARIFY COEFFICIENT FROM PYTHON CODE"
   ]
  },
  {
   "cell_type": "code",
   "execution_count": null,
   "metadata": {},
   "outputs": [
    {
     "data": {
      "text/html": [
       "<table class=\"simpletable\">\n",
       "<caption>OLS Regression Results</caption>\n",
       "<tr>\n",
       "  <th>Dep. Variable:</th>    <td>anual_cc_return_future</td> <th>  R-squared:         </th> <td>   0.069</td> \n",
       "</tr>\n",
       "<tr>\n",
       "  <th>Model:</th>                      <td>OLS</td>          <th>  Adj. R-squared:    </th> <td>   0.068</td> \n",
       "</tr>\n",
       "<tr>\n",
       "  <th>Method:</th>                <td>Least Squares</td>     <th>  F-statistic:       </th> <td>   90.87</td> \n",
       "</tr>\n",
       "<tr>\n",
       "  <th>Date:</th>                <td>Wed, 26 Oct 2022</td>    <th>  Prob (F-statistic):</th> <td>2.06e-110</td>\n",
       "</tr>\n",
       "<tr>\n",
       "  <th>Time:</th>                    <td>15:29:17</td>        <th>  Log-Likelihood:    </th> <td> -5522.4</td> \n",
       "</tr>\n",
       "<tr>\n",
       "  <th>No. Observations:</th>         <td>  7346</td>         <th>  AIC:               </th> <td>1.106e+04</td>\n",
       "</tr>\n",
       "<tr>\n",
       "  <th>Df Residuals:</th>             <td>  7339</td>         <th>  BIC:               </th> <td>1.111e+04</td>\n",
       "</tr>\n",
       "<tr>\n",
       "  <th>Df Model:</th>                 <td>     6</td>         <th>                     </th>     <td> </td>    \n",
       "</tr>\n",
       "<tr>\n",
       "  <th>Covariance Type:</th>         <td>nonrobust</td>       <th>                     </th>     <td> </td>    \n",
       "</tr>\n",
       "</table>\n",
       "<table class=\"simpletable\">\n",
       "<tr>\n",
       "          <td></td>            <th>coef</th>     <th>std err</th>      <th>t</th>      <th>P>|t|</th>  <th>[0.025</th>    <th>0.975]</th>  \n",
       "</tr>\n",
       "<tr>\n",
       "  <th>const</th>            <td>    0.1238</td> <td>    0.013</td> <td>    9.699</td> <td> 0.000</td> <td>    0.099</td> <td>    0.149</td>\n",
       "</tr>\n",
       "<tr>\n",
       "  <th>op_profit_margin</th> <td>    0.0451</td> <td>    0.013</td> <td>    3.481</td> <td> 0.001</td> <td>    0.020</td> <td>    0.071</td>\n",
       "</tr>\n",
       "<tr>\n",
       "  <th>short_leverage</th>   <td>   -0.1818</td> <td>    0.060</td> <td>   -3.039</td> <td> 0.002</td> <td>   -0.299</td> <td>   -0.065</td>\n",
       "</tr>\n",
       "<tr>\n",
       "  <th>bmr</th>              <td>   -0.1095</td> <td>    0.009</td> <td>  -11.812</td> <td> 0.000</td> <td>   -0.128</td> <td>   -0.091</td>\n",
       "</tr>\n",
       "<tr>\n",
       "  <th>epsp</th>             <td>    1.9439</td> <td>    0.137</td> <td>   14.144</td> <td> 0.000</td> <td>    1.674</td> <td>    2.213</td>\n",
       "</tr>\n",
       "<tr>\n",
       "  <th>size_d1</th>          <td>    0.0121</td> <td>    0.015</td> <td>    0.800</td> <td> 0.424</td> <td>   -0.018</td> <td>    0.042</td>\n",
       "</tr>\n",
       "<tr>\n",
       "  <th>size_d2</th>          <td>    0.0181</td> <td>    0.015</td> <td>    1.200</td> <td> 0.230</td> <td>   -0.012</td> <td>    0.048</td>\n",
       "</tr>\n",
       "</table>\n",
       "<table class=\"simpletable\">\n",
       "<tr>\n",
       "  <th>Omnibus:</th>       <td>1970.316</td> <th>  Durbin-Watson:     </th> <td>   0.814</td> \n",
       "</tr>\n",
       "<tr>\n",
       "  <th>Prob(Omnibus):</th>  <td> 0.000</td>  <th>  Jarque-Bera (JB):  </th> <td>54621.546</td>\n",
       "</tr>\n",
       "<tr>\n",
       "  <th>Skew:</th>           <td>-0.683</td>  <th>  Prob(JB):          </th> <td>    0.00</td> \n",
       "</tr>\n",
       "<tr>\n",
       "  <th>Kurtosis:</th>       <td>16.289</td>  <th>  Cond. No.          </th> <td>    29.9</td> \n",
       "</tr>\n",
       "</table><br/><br/>Notes:<br/>[1] Standard Errors assume that the covariance matrix of the errors is correctly specified."
      ],
      "text/plain": [
       "<class 'statsmodels.iolib.summary.Summary'>\n",
       "\"\"\"\n",
       "                              OLS Regression Results                              \n",
       "==================================================================================\n",
       "Dep. Variable:     anual_cc_return_future   R-squared:                       0.069\n",
       "Model:                                OLS   Adj. R-squared:                  0.068\n",
       "Method:                     Least Squares   F-statistic:                     90.87\n",
       "Date:                    Wed, 26 Oct 2022   Prob (F-statistic):          2.06e-110\n",
       "Time:                            15:29:17   Log-Likelihood:                -5522.4\n",
       "No. Observations:                    7346   AIC:                         1.106e+04\n",
       "Df Residuals:                        7339   BIC:                         1.111e+04\n",
       "Df Model:                               6                                         \n",
       "Covariance Type:                nonrobust                                         \n",
       "====================================================================================\n",
       "                       coef    std err          t      P>|t|      [0.025      0.975]\n",
       "------------------------------------------------------------------------------------\n",
       "const                0.1238      0.013      9.699      0.000       0.099       0.149\n",
       "op_profit_margin     0.0451      0.013      3.481      0.001       0.020       0.071\n",
       "short_leverage      -0.1818      0.060     -3.039      0.002      -0.299      -0.065\n",
       "bmr                 -0.1095      0.009    -11.812      0.000      -0.128      -0.091\n",
       "epsp                 1.9439      0.137     14.144      0.000       1.674       2.213\n",
       "size_d1              0.0121      0.015      0.800      0.424      -0.018       0.042\n",
       "size_d2              0.0181      0.015      1.200      0.230      -0.012       0.048\n",
       "==============================================================================\n",
       "Omnibus:                     1970.316   Durbin-Watson:                   0.814\n",
       "Prob(Omnibus):                  0.000   Jarque-Bera (JB):            54621.546\n",
       "Skew:                          -0.683   Prob(JB):                         0.00\n",
       "Kurtosis:                      16.289   Cond. No.                         29.9\n",
       "==============================================================================\n",
       "\n",
       "Notes:\n",
       "[1] Standard Errors assume that the covariance matrix of the errors is correctly specified.\n",
       "\"\"\""
      ]
     },
     "metadata": {},
     "output_type": "display_data"
    }
   ],
   "source": [
    "mkmodel.summary()"
   ]
  },
  {
   "cell_type": "markdown",
   "metadata": {},
   "source": [
    "**CALCULATE ERROR**  \n",
    "E = Y - Y_H"
   ]
  },
  {
   "cell_type": "code",
   "execution_count": 241,
   "metadata": {},
   "outputs": [
    {
     "data": {
      "text/plain": [
       "(7346, 1)"
      ]
     },
     "execution_count": 241,
     "metadata": {},
     "output_type": "execute_result"
    }
   ],
   "source": [
    "E_Mat = Y_Mat - Y_H_Mat\n",
    "E_Mat = np.reshape(E_Mat, (E_Mat.size, 1))\n",
    "N = E_Mat.shape[0]"
   ]
  },
  {
   "cell_type": "markdown",
   "metadata": {},
   "source": [
    "**CALCULATE STANDARD DEVIATION**  \n",
    "STD = SQRT(SUM(SQUAR(E)) / (N-1))  \n",
    "\n",
    "SQU_E = E * E  \n",
    "STD = SQRT(ONE.SQU_E / (N - 1))"
   ]
  },
  {
   "cell_type": "code",
   "execution_count": 243,
   "metadata": {},
   "outputs": [
    {
     "data": {
      "text/plain": [
       "0.5131864527642762"
      ]
     },
     "execution_count": 243,
     "metadata": {},
     "output_type": "execute_result"
    }
   ],
   "source": [
    "Squ_E_Mat = np.square(E_Mat)\n",
    "Standard_Deviation = np.sqrt((np.ones((1, N))).dot(Squ_E_Mat) / (N - 1))\n",
    "Standard_Deviation = Standard_Deviation[0][0]\n",
    "Standard_Deviation"
   ]
  },
  {
   "cell_type": "markdown",
   "metadata": {},
   "source": [
    "**CALCULATE STANDARD ERROR**  \n",
    "SE = STD / SQRT(N)  "
   ]
  },
  {
   "cell_type": "code",
   "execution_count": 244,
   "metadata": {},
   "outputs": [
    {
     "data": {
      "text/plain": [
       "0.0059875578328877485"
      ]
     },
     "execution_count": 244,
     "metadata": {},
     "output_type": "execute_result"
    }
   ],
   "source": [
    "Standard_Error = Standard_Deviation / math.sqrt(N)\n",
    "Standard_Error"
   ]
  }
 ],
 "metadata": {
  "kernelspec": {
   "display_name": "Python 3.9.13 ('tf')",
   "language": "python",
   "name": "python3"
  },
  "language_info": {
   "codemirror_mode": {
    "name": "ipython",
    "version": 3
   },
   "file_extension": ".py",
   "mimetype": "text/x-python",
   "name": "python",
   "nbconvert_exporter": "python",
   "pygments_lexer": "ipython3",
   "version": "3.9.13"
  },
  "orig_nbformat": 4,
  "vscode": {
   "interpreter": {
    "hash": "2f0d5cdfa70a2817a76af35bdab9899306c0c3c14942d4f5b79dcc3644c4e15a"
   }
  }
 },
 "nbformat": 4,
 "nbformat_minor": 2
}

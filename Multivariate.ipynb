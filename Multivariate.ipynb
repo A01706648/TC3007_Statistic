{
 "cells": [
  {
   "cell_type": "markdown",
   "metadata": {},
   "source": [
    "GET THE ORIGINAL DATA.  \n",
    "GENERATE MATRIX FOR X,  \n",
    "WITH X FROM **'op_profit_margin', 'short_leverage', 'bmr', 'epsp', 'size_d1', 'size_d2'**  \n",
    "WITH Y FROM **'anual_cc_return_future'**"
   ]
  },
  {
   "cell_type": "code",
   "execution_count": 1,
   "metadata": {},
   "outputs": [],
   "source": [
    "isGoogleColab = False\n",
    "\n",
    "if(isGoogleColab):\n",
    "    from google.colab import drive\n",
    "import pandas as pd\n",
    "import numpy as np\n",
    "import plotly.express as px\n",
    "import matplotlib.pyplot as plt\n",
    "import seaborn as sns\n",
    "from scipy.stats.mstats import winsorize"
   ]
  },
  {
   "cell_type": "code",
   "execution_count": 2,
   "metadata": {},
   "outputs": [],
   "source": [
    "industry_dict = {'Accommodation and Food Services':'Services',\n",
    "       'Administrative and Support and Waste Management and Remediation Services':'Services',\n",
    "       'Agriculture, Forestry, Fishing and Hunting':'Agriculture',\n",
    "       'Arts, Entertainment, and Recreation':'Services', \n",
    "       'Construction':'Construction',\n",
    "       'Educational Services':'Services', \n",
    "       'Finance and Insurance':'Finance',\n",
    "       'Health Care and Social Assistance':'Services', \n",
    "       'Information':'Services',\n",
    "       'Manufacturing':'Manufacturing', \n",
    "       'Mining, Quarrying, and Oil and Gas Extraction':'Mining',\n",
    "       'Other Services (except Public Administration)':'Services',\n",
    "       'Professional, Scientific, and Technical Services':'Services',\n",
    "       'Real Estate and Rental and Leasing':'Finance', \n",
    "       'Retail Trade':'Comercial',\n",
    "       'Transportation and Warehousing':'Services', \n",
    "       'Utilities':'Energy', \n",
    "       'Wholesale Trade':'Comercial'}"
   ]
  },
  {
   "cell_type": "code",
   "execution_count": 3,
   "metadata": {},
   "outputs": [],
   "source": [
    "if(isGoogleColab):\n",
    "    drive.mount(\"/content/gdrive\") \n",
    "    %cd \"/content/gdrive/MyDrive/Machine Learning/deliver/M1\"\n",
    "df = pd.read_csv('us2022q2a.csv')\n",
    "df_firm = pd.read_csv('usfirms2022.csv')"
   ]
  },
  {
   "cell_type": "code",
   "execution_count": 4,
   "metadata": {},
   "outputs": [],
   "source": [
    "bIsAproachNew = False\n",
    "\n",
    "df_more = df.copy()\n",
    "\n",
    "#put industry column\n",
    "firm_list = df['firm'].unique()\n",
    "firm_list = firm_list.tolist()\n",
    "firm_list.remove(np.nan)\n",
    "df_firm_more = df_firm.copy()\n",
    "df_firm_more['industry'] = df_firm_more['Sector NAICS\\nlevel 1']\n",
    "df_firm_more = df_firm_more.replace({'industry': industry_dict})\n",
    "\n",
    "firm_industry_dic = {}\n",
    "\n",
    "if(bIsAproachNew):\n",
    "  firm_industry_dic_temp = {}\n",
    "\n",
    "  for count in range(df_firm_more['Ticker'].count()):\n",
    "    firm_industry_dic_temp[df_firm_more['Ticker'][count]] = df_firm_more['industry'][count]\n",
    "\n",
    "  #print(firm_industry_dic_temp)\n",
    "else:\n",
    "  for firm in firm_list:\n",
    "    if (len((df_firm_more[df_firm_more['Ticker'] == firm]['industry']).values.tolist()) > 0):\n",
    "      firm_industry_dic[firm] = ((df_firm_more[df_firm_more['Ticker'] == firm]['industry']).values.tolist())[0]\n",
    "    else:\n",
    "      firm_industry_dic[firm] = np.nan\n",
    "\n",
    "for firm in firm_list:\n",
    "    if(bIsAproachNew):\n",
    "      if((len(firm) > 0) and (firm in firm_industry_dic_temp)):\n",
    "        firm_industry_dic[firm] = firm_industry_dic_temp[firm]\n",
    "      #else:\n",
    "      #  firm_industry_dic[firm] = np.nan\n",
    "    else:\n",
    "      if(len(firm) > 0):\n",
    "        #firm_industry_dic[firm] = ((df_firm_more[df_firm_more['Ticker'] == firm]['industry']).values.tolist())[0]\n",
    "        temp_df = df_firm_more[df_firm_more['Ticker'] == firm]\n",
    "        if(temp_df['industry'].count() > 0):\n",
    "          firm_industry_dic[firm] = temp_df['industry'].tolist()[0]\n",
    "      #else:\n",
    "      #  firm_industry_dic[firm] = np.nan\n",
    "\n",
    "df_more['industry'] = df_more['firm']\n",
    "df_more = df_more.replace({'industry': firm_industry_dic})\n",
    "\n",
    "\n",
    "#put country column\n",
    "firm_country_dict = {}\n",
    "for count in range(df_firm['Ticker'].count()):\n",
    "    firm = df_firm['Ticker'][count]\n",
    "    country = df_firm['Country\\nof Origin'][count]\n",
    "    firm_country_dict[firm] = country\n",
    "\n",
    "df_more['country'] = df_more['firm']\n",
    "df_more = df_more.replace({'country':firm_country_dict})\n",
    "#drop the line which all column is empty\n",
    "df_more = df_more.dropna(how='all')\n",
    "#df_more"
   ]
  },
  {
   "cell_type": "code",
   "execution_count": 5,
   "metadata": {},
   "outputs": [],
   "source": [
    "df_more['firm_index'] = df_more['firm']\n",
    "df_more['q_index'] = df_more['q']\n",
    "df_more.set_index(['firm_index','q_index'], inplace=True)\n",
    "#add Date\n",
    "df_more['date'] = pd.to_datetime(df_more['q'])\n",
    "\n",
    "#Calculate bookvalue\n",
    "df_more['bookvalue'] = df_more['totalassets'] - df_more['totalliabilities']\n",
    "\n",
    "#Calculate Market Value\n",
    "df_more['marketvalue'] = df_more['originalprice'] * df_more['sharesoutstanding']\n",
    "\n",
    "#Calculate Operating profit margin\n",
    "df_more['op_profit'] = df_more['revenue'] - df_more['cogs'] - df_more['sgae'] - df_more['otheropexp']\n",
    "df_more['op_profit_margin'] = df_more['op_profit'] / df_more['revenue']\n",
    "df_more['net_income'] = df_more['op_profit'] - df_more['incometax'] - df_more['finexp'] + df_more['extraincome']\n",
    "df_more['profit_margin'] = df_more['net_income'] / df_more['revenue']\n",
    "\n",
    "#Calculate CC Return\n",
    "df_more['anual_cc_return'] = np.log(df_more['adjprice']) - np.log(df_more['adjprice'].shift(4))\n",
    "df_more['anual_cc_return_future'] = np.log(df_more['adjprice'].shift(-1)) - np.log(df_more['adjprice'].shift(3))\n",
    "\n",
    "\n",
    "#Earning Per Share\n",
    "df_more['eps'] = df_more['net_income'] / df_more['sharesoutstanding']\n",
    "\n",
    "#Calculate the short term leverage\n",
    "\n",
    "#Calculate the ratio of bookvalue and market value\n",
    "\n",
    "\n",
    "df_more = df_more.dropna(subset=['adjprice'])"
   ]
  },
  {
   "cell_type": "code",
   "execution_count": 6,
   "metadata": {},
   "outputs": [],
   "source": [
    "industry_list = df_more['industry'].unique()\n",
    "industry_list = industry_list.tolist()\n",
    "del industry_list[-1]\n",
    "del industry_list[-1]"
   ]
  },
  {
   "cell_type": "code",
   "execution_count": 7,
   "metadata": {},
   "outputs": [],
   "source": [
    "df_more.replace([np.inf, -np.inf], np.nan, inplace=True)"
   ]
  },
  {
   "cell_type": "code",
   "execution_count": 8,
   "metadata": {},
   "outputs": [
    {
     "data": {
      "text/plain": [
       "masked_array(data=[ 0.33715018,  0.21003221, -0.47542827, ...,\n",
       "                    0.28896335, -1.12921415, -0.44195264],\n",
       "             mask=False,\n",
       "       fill_value=1e+20)"
      ]
     },
     "execution_count": 8,
     "metadata": {},
     "output_type": "execute_result"
    }
   ],
   "source": [
    "df_more_clean = df_more.dropna(subset=['op_profit_margin', 'anual_cc_return', 'eps'])\n",
    "winsorize(df_more_clean['op_profit_margin'], limits=[0.01,0.01],  inplace=True)\n",
    "winsorize(df_more_clean['anual_cc_return'], limits=[0.01,0.01],inplace=True)\n",
    "winsorize(df_more_clean['eps'], limits=[0.01,0.01], inplace=True)"
   ]
  },
  {
   "cell_type": "code",
   "execution_count": 9,
   "metadata": {},
   "outputs": [],
   "source": [
    "df_more['epsp'] = df_more['eps'] / df_more['originalprice']"
   ]
  },
  {
   "cell_type": "code",
   "execution_count": 10,
   "metadata": {},
   "outputs": [],
   "source": [
    "df_finance = df_more[df_more['industry'] == 'Finance'].copy()\n",
    "df_finance['short_leverage'] = df_finance['shortdebt'] / df_finance['totalassets']\n",
    "df_finance['bmr'] = df_finance['bookvalue'] / df_finance['marketvalue']\n",
    "\n",
    "df_finance.replace([np.inf, -np.inf], np.nan, inplace=True)"
   ]
  },
  {
   "cell_type": "code",
   "execution_count": 11,
   "metadata": {},
   "outputs": [],
   "source": [
    "df_finance_train = df_finance.copy()\n",
    "df_finance_train = df_finance_train.dropna(subset=['op_profit_margin', 'short_leverage', 'bmr', 'epsp', 'anual_cc_return_future'])"
   ]
  },
  {
   "cell_type": "code",
   "execution_count": 12,
   "metadata": {},
   "outputs": [],
   "source": [
    "df_finance_train['op_profit_margin'] = winsorize(df_finance_train['op_profit_margin'], limits=[0.01,0.01])\n",
    "df_finance_train['short_leverage'] = winsorize(df_finance_train['short_leverage'], limits=[0.01,0.01])\n",
    "df_finance_train['bmr'] = winsorize(df_finance_train['bmr'], limits=[0.01,0.01])\n",
    "df_finance_train['epsp'] = winsorize(df_finance_train['epsp'], limits=[0.01,0.01])"
   ]
  },
  {
   "cell_type": "code",
   "execution_count": 13,
   "metadata": {},
   "outputs": [],
   "source": [
    "df_finance_train['size_d1'] = 0\n",
    "df_finance_train['size_d2'] = 0"
   ]
  },
  {
   "cell_type": "code",
   "execution_count": 14,
   "metadata": {},
   "outputs": [],
   "source": [
    "df_finance_train_copy = df_finance_train.copy()\n",
    "df_finance_train_date_size = df_finance_train_copy.sort_values(['date', 'marketvalue']).groupby('date')\n",
    "df_finance_train_date_size[['marketvalue', 'date', 'q']].head()\n",
    "#len(df_finance_train_date_size['date'].unique())\n",
    "#df_finance_train_date_size['date'].head()\n",
    "\n",
    "count = 0\n",
    "for date in df_finance_train_copy['date'].unique():\n",
    "    df_date = df_finance_train_copy.loc[df_finance_train_copy['date'] == date]\n",
    "    \n",
    "    size_total = df_date['marketvalue'].count()\n",
    "    size_per = size_total // 3\n",
    "    \n",
    "    df_date_size_sort = df_date.sort_values('marketvalue')\n",
    "    #df_date_size_sort.reset_index()\n",
    "    #if(count == 0):\n",
    "    #    print(df_date_size_sort[['size_d1', 'marketvalue']].head())\n",
    "    #df_date_size_sort['size_d1'].iloc[size_per:(2 * size_per - 1)] = 1\n",
    "    #df_date_size_sort['size_d2'].iloc[(2 * size_per) :] = 1\n",
    "\n",
    "    for firm in df_date_size_sort['firm'].iloc[size_per:(2 * size_per - 1)]:\n",
    "        df_finance_train_copy.loc[(df_finance_train_copy['firm'] == firm) & (df_finance_train_copy['date'] == date), 'size_d1'] = 1\n",
    "        #if(count == 0):\n",
    "        #    print(df_finance_train_copy[(df_finance_train_copy['firm'] == firm) & (df_finance_train_copy['date'] == date)].index.to_list()[0])\n",
    "\n",
    "    for firm in df_date_size_sort['firm'].iloc[(2 * size_per) :]:\n",
    "        df_finance_train_copy.loc[(df_finance_train_copy['firm'] == firm) & (df_finance_train_copy['date'] == date), 'size_d2'] = 1\n",
    "\n",
    "\n",
    "    count += 1\n",
    "\n",
    "#print(count)\n",
    "#df_finance_train_copy.isna().sum()\n",
    "#df_finance_train_copy[['date', 'marketvalue', 'size_d1', 'size_d2']].head(40)\n",
    "#print(df_finance_train_copy['size_d1'].unique())\n",
    "#print(df_finance_train_copy['size_d2'].unique())"
   ]
  },
  {
   "cell_type": "markdown",
   "metadata": {},
   "source": [
    "1 Perform an exploratory analysis of the variables:(You have to use matrix algebra and check results with Python functions.)"
   ]
  },
  {
   "cell_type": "markdown",
   "metadata": {},
   "source": [
    "1.1 Calculates variance and covariance matrix,   "
   ]
  },
  {
   "cell_type": "markdown",
   "metadata": {},
   "source": [
    "as well as correlation matrix of the independent and dependent variables"
   ]
  },
  {
   "cell_type": "markdown",
   "metadata": {},
   "source": [
    "Interpret the correlation matrix."
   ]
  },
  {
   "cell_type": "markdown",
   "metadata": {},
   "source": [
    "VarCov(X) = (1/(N - 1)) ( X'.X - (1/N)*(X'.1).(X'.1) )"
   ]
  },
  {
   "cell_type": "markdown",
   "metadata": {},
   "source": [
    "## Explain what variance, covariance, and correlation are."
   ]
  },
  {
   "cell_type": "markdown",
   "metadata": {},
   "source": [
    "**Variance**, is a measure of variability from the mean  \n",
    "\n",
    "**Covariance**, is a measure of relationship between the variability of 2 variables  \n",
    "It is the Average of the Product Deviations from the mean of each variable  \n",
    "We can not understand the magnitude of Covariance   \n",
    "\n",
    "**Correlation**, is a relationship between the variability of 2 variables  \n",
    "Correlation is standarized, value between -1 and 1"
   ]
  },
  {
   "cell_type": "code",
   "execution_count": 15,
   "metadata": {},
   "outputs": [],
   "source": [
    "X = df_finance_train_copy[['op_profit_margin', 'short_leverage', 'bmr', 'epsp', 'size_d1', 'size_d2']]\n",
    "y = df_finance_train_copy['anual_cc_return_future']"
   ]
  },
  {
   "cell_type": "code",
   "execution_count": 16,
   "metadata": {},
   "outputs": [
    {
     "data": {
      "text/plain": [
       "(7346, 6)"
      ]
     },
     "execution_count": 16,
     "metadata": {},
     "output_type": "execute_result"
    }
   ],
   "source": [
    "X_Mat = X.to_numpy()\n",
    "X_Mat.shape\n"
   ]
  },
  {
   "cell_type": "markdown",
   "metadata": {},
   "source": [
    "Variance = 1/N Sum((Xi - X_Avg)^2)"
   ]
  },
  {
   "cell_type": "markdown",
   "metadata": {},
   "source": [
    "X_Avg = X . (ONE x (1/N))  "
   ]
  },
  {
   "cell_type": "code",
   "execution_count": 17,
   "metadata": {},
   "outputs": [
    {
     "data": {
      "text/plain": [
       "(1, 6)"
      ]
     },
     "execution_count": 17,
     "metadata": {},
     "output_type": "execute_result"
    }
   ],
   "source": [
    "X_Avg = np.dot(np.ones((1, X_Mat.shape[0])), X_Mat) / (X_Mat.shape[0])\n",
    "X_Avg.shape"
   ]
  },
  {
   "cell_type": "code",
   "execution_count": 18,
   "metadata": {},
   "outputs": [
    {
     "data": {
      "text/plain": [
       "op_profit_margin    0.133567\n",
       "short_leverage      0.043115\n",
       "bmr                 0.581360\n",
       "epsp                0.005564\n",
       "size_d1             0.316499\n",
       "size_d2             0.342499\n",
       "dtype: float64"
      ]
     },
     "execution_count": 18,
     "metadata": {},
     "output_type": "execute_result"
    }
   ],
   "source": [
    "X.mean()"
   ]
  },
  {
   "cell_type": "code",
   "execution_count": 19,
   "metadata": {},
   "outputs": [
    {
     "data": {
      "text/plain": [
       "array([[0.13356652, 0.04311546, 0.5813598 , 0.00556411, 0.31649877,\n",
       "        0.34249932]])"
      ]
     },
     "execution_count": 19,
     "metadata": {},
     "output_type": "execute_result"
    }
   ],
   "source": [
    "X_Avg"
   ]
  },
  {
   "cell_type": "markdown",
   "metadata": {},
   "source": [
    "X_Diff = X - (ONE . X_Avg)"
   ]
  },
  {
   "cell_type": "code",
   "execution_count": 20,
   "metadata": {},
   "outputs": [
    {
     "data": {
      "text/plain": [
       "array([[-0.82498624,  0.        ,  0.99599506,  0.00439069,  1.        ,\n",
       "         0.        ],\n",
       "       [ 0.00810064,  0.        ,  1.04992656,  0.00438099,  1.        ,\n",
       "         0.        ],\n",
       "       [-0.86865851,  0.        ,  1.00591696, -0.01491826,  1.        ,\n",
       "         0.        ],\n",
       "       ...,\n",
       "       [-0.11597549,  0.04811628,  2.81872096, -0.03901772,  0.        ,\n",
       "         0.        ],\n",
       "       [-0.87021487,  0.02947186,  3.51525056, -0.29726164,  0.        ,\n",
       "         0.        ],\n",
       "       [-0.34640448,  0.02865596,  2.44275162, -0.11957765,  0.        ,\n",
       "         0.        ]])"
      ]
     },
     "execution_count": 20,
     "metadata": {},
     "output_type": "execute_result"
    }
   ],
   "source": [
    "X_Mat"
   ]
  },
  {
   "cell_type": "code",
   "execution_count": 21,
   "metadata": {},
   "outputs": [
    {
     "data": {
      "text/plain": [
       "array([[-9.58552763e-01, -4.31154554e-02,  4.14635255e-01,\n",
       "        -1.17341507e-03,  6.83501225e-01, -3.42499319e-01],\n",
       "       [-1.25465878e-01, -4.31154554e-02,  4.68566759e-01,\n",
       "        -1.18311652e-03,  6.83501225e-01, -3.42499319e-01],\n",
       "       [-1.00222503e+00, -4.31154554e-02,  4.24557156e-01,\n",
       "        -2.04823647e-02,  6.83501225e-01, -3.42499319e-01],\n",
       "       ...,\n",
       "       [-2.49542013e-01,  5.00082239e-03,  2.23736116e+00,\n",
       "        -4.45818245e-02, -3.16498775e-01, -3.42499319e-01],\n",
       "       [-1.00378139e+00, -1.36435956e-02,  2.93389076e+00,\n",
       "        -3.02825744e-01, -3.16498775e-01, -3.42499319e-01],\n",
       "       [-4.79971003e-01, -1.44594967e-02,  1.86139181e+00,\n",
       "        -1.25141759e-01, -3.16498775e-01, -3.42499319e-01]])"
      ]
     },
     "execution_count": 21,
     "metadata": {},
     "output_type": "execute_result"
    }
   ],
   "source": [
    "X_Diff = X_Mat - (np.dot(np.ones((X_Mat.shape[0], 1)), X_Avg))\n",
    "X_Diff"
   ]
  },
  {
   "cell_type": "markdown",
   "metadata": {},
   "source": [
    "X_Diff2 = X_Diff x X_Diff"
   ]
  },
  {
   "cell_type": "code",
   "execution_count": 22,
   "metadata": {},
   "outputs": [
    {
     "data": {
      "text/plain": [
       "(7346, 6)"
      ]
     },
     "execution_count": 22,
     "metadata": {},
     "output_type": "execute_result"
    }
   ],
   "source": [
    "X_Diff2 = X_Diff * X_Diff\n",
    "X_Diff2.shape"
   ]
  },
  {
   "cell_type": "markdown",
   "metadata": {},
   "source": [
    "Sum_X_Diff2 = ONE . X_Diff2\n",
    "Variance = Sum_X_Diff2 / N"
   ]
  },
  {
   "cell_type": "code",
   "execution_count": 23,
   "metadata": {},
   "outputs": [
    {
     "data": {
      "text/plain": [
       "array([[0.25313993, 0.01015089, 0.45027479, 0.00226093, 0.2163273 ,\n",
       "        0.22519354]])"
      ]
     },
     "execution_count": 23,
     "metadata": {},
     "output_type": "execute_result"
    }
   ],
   "source": [
    "Sum_X_Diff2 = np.dot(np.ones((1, X_Diff2.shape[0])), X_Diff2)\n",
    "Variance = Sum_X_Diff2 / X_Diff2.shape[0]\n",
    "Variance"
   ]
  },
  {
   "cell_type": "code",
   "execution_count": 24,
   "metadata": {},
   "outputs": [
    {
     "data": {
      "text/plain": [
       "op_profit_margin    0.253174\n",
       "short_leverage      0.010152\n",
       "bmr                 0.450336\n",
       "epsp                0.002261\n",
       "size_d1             0.216357\n",
       "size_d2             0.225224\n",
       "dtype: float64"
      ]
     },
     "execution_count": 24,
     "metadata": {},
     "output_type": "execute_result"
    }
   ],
   "source": [
    "X.var()"
   ]
  },
  {
   "cell_type": "code",
   "execution_count": 26,
   "metadata": {},
   "outputs": [
    {
     "data": {
      "text/html": [
       "<div>\n",
       "<style scoped>\n",
       "    .dataframe tbody tr th:only-of-type {\n",
       "        vertical-align: middle;\n",
       "    }\n",
       "\n",
       "    .dataframe tbody tr th {\n",
       "        vertical-align: top;\n",
       "    }\n",
       "\n",
       "    .dataframe thead th {\n",
       "        text-align: right;\n",
       "    }\n",
       "</style>\n",
       "<table border=\"1\" class=\"dataframe\">\n",
       "  <thead>\n",
       "    <tr style=\"text-align: right;\">\n",
       "      <th></th>\n",
       "      <th>op_profit_margin</th>\n",
       "      <th>short_leverage</th>\n",
       "      <th>bmr</th>\n",
       "      <th>epsp</th>\n",
       "      <th>size_d1</th>\n",
       "      <th>size_d2</th>\n",
       "    </tr>\n",
       "  </thead>\n",
       "  <tbody>\n",
       "    <tr>\n",
       "      <th>op_profit_margin</th>\n",
       "      <td>0.253174</td>\n",
       "      <td>-0.000484</td>\n",
       "      <td>-0.032765</td>\n",
       "      <td>0.008987</td>\n",
       "      <td>0.005183</td>\n",
       "      <td>0.034739</td>\n",
       "    </tr>\n",
       "    <tr>\n",
       "      <th>short_leverage</th>\n",
       "      <td>-0.000484</td>\n",
       "      <td>0.010152</td>\n",
       "      <td>0.005007</td>\n",
       "      <td>-0.000050</td>\n",
       "      <td>0.003663</td>\n",
       "      <td>-0.003454</td>\n",
       "    </tr>\n",
       "    <tr>\n",
       "      <th>bmr</th>\n",
       "      <td>-0.032765</td>\n",
       "      <td>0.005007</td>\n",
       "      <td>0.450336</td>\n",
       "      <td>-0.004712</td>\n",
       "      <td>-0.018215</td>\n",
       "      <td>-0.054351</td>\n",
       "    </tr>\n",
       "    <tr>\n",
       "      <th>epsp</th>\n",
       "      <td>0.008987</td>\n",
       "      <td>-0.000050</td>\n",
       "      <td>-0.004712</td>\n",
       "      <td>0.002261</td>\n",
       "      <td>0.001375</td>\n",
       "      <td>0.002286</td>\n",
       "    </tr>\n",
       "    <tr>\n",
       "      <th>size_d1</th>\n",
       "      <td>0.005183</td>\n",
       "      <td>0.003663</td>\n",
       "      <td>-0.018215</td>\n",
       "      <td>0.001375</td>\n",
       "      <td>0.216357</td>\n",
       "      <td>-0.108415</td>\n",
       "    </tr>\n",
       "    <tr>\n",
       "      <th>size_d2</th>\n",
       "      <td>0.034739</td>\n",
       "      <td>-0.003454</td>\n",
       "      <td>-0.054351</td>\n",
       "      <td>0.002286</td>\n",
       "      <td>-0.108415</td>\n",
       "      <td>0.225224</td>\n",
       "    </tr>\n",
       "  </tbody>\n",
       "</table>\n",
       "</div>"
      ],
      "text/plain": [
       "                  op_profit_margin  short_leverage       bmr      epsp  \\\n",
       "op_profit_margin          0.253174       -0.000484 -0.032765  0.008987   \n",
       "short_leverage           -0.000484        0.010152  0.005007 -0.000050   \n",
       "bmr                      -0.032765        0.005007  0.450336 -0.004712   \n",
       "epsp                      0.008987       -0.000050 -0.004712  0.002261   \n",
       "size_d1                   0.005183        0.003663 -0.018215  0.001375   \n",
       "size_d2                   0.034739       -0.003454 -0.054351  0.002286   \n",
       "\n",
       "                   size_d1   size_d2  \n",
       "op_profit_margin  0.005183  0.034739  \n",
       "short_leverage    0.003663 -0.003454  \n",
       "bmr              -0.018215 -0.054351  \n",
       "epsp              0.001375  0.002286  \n",
       "size_d1           0.216357 -0.108415  \n",
       "size_d2          -0.108415  0.225224  "
      ]
     },
     "execution_count": 26,
     "metadata": {},
     "output_type": "execute_result"
    }
   ],
   "source": [
    "X.cov()"
   ]
  },
  {
   "cell_type": "code",
   "execution_count": 27,
   "metadata": {},
   "outputs": [
    {
     "data": {
      "text/html": [
       "<div>\n",
       "<style scoped>\n",
       "    .dataframe tbody tr th:only-of-type {\n",
       "        vertical-align: middle;\n",
       "    }\n",
       "\n",
       "    .dataframe tbody tr th {\n",
       "        vertical-align: top;\n",
       "    }\n",
       "\n",
       "    .dataframe thead th {\n",
       "        text-align: right;\n",
       "    }\n",
       "</style>\n",
       "<table border=\"1\" class=\"dataframe\">\n",
       "  <thead>\n",
       "    <tr style=\"text-align: right;\">\n",
       "      <th></th>\n",
       "      <th>op_profit_margin</th>\n",
       "      <th>short_leverage</th>\n",
       "      <th>bmr</th>\n",
       "      <th>epsp</th>\n",
       "      <th>size_d1</th>\n",
       "      <th>size_d2</th>\n",
       "    </tr>\n",
       "  </thead>\n",
       "  <tbody>\n",
       "    <tr>\n",
       "      <th>op_profit_margin</th>\n",
       "      <td>1.000000</td>\n",
       "      <td>-0.009547</td>\n",
       "      <td>-0.097035</td>\n",
       "      <td>0.375586</td>\n",
       "      <td>0.022144</td>\n",
       "      <td>0.145478</td>\n",
       "    </tr>\n",
       "    <tr>\n",
       "      <th>short_leverage</th>\n",
       "      <td>-0.009547</td>\n",
       "      <td>1.000000</td>\n",
       "      <td>0.074047</td>\n",
       "      <td>-0.010406</td>\n",
       "      <td>0.078162</td>\n",
       "      <td>-0.072241</td>\n",
       "    </tr>\n",
       "    <tr>\n",
       "      <th>bmr</th>\n",
       "      <td>-0.097035</td>\n",
       "      <td>0.074047</td>\n",
       "      <td>1.000000</td>\n",
       "      <td>-0.147657</td>\n",
       "      <td>-0.058354</td>\n",
       "      <td>-0.170659</td>\n",
       "    </tr>\n",
       "    <tr>\n",
       "      <th>epsp</th>\n",
       "      <td>0.375586</td>\n",
       "      <td>-0.010406</td>\n",
       "      <td>-0.147657</td>\n",
       "      <td>1.000000</td>\n",
       "      <td>0.062155</td>\n",
       "      <td>0.101287</td>\n",
       "    </tr>\n",
       "    <tr>\n",
       "      <th>size_d1</th>\n",
       "      <td>0.022144</td>\n",
       "      <td>0.078162</td>\n",
       "      <td>-0.058354</td>\n",
       "      <td>0.062155</td>\n",
       "      <td>1.000000</td>\n",
       "      <td>-0.491132</td>\n",
       "    </tr>\n",
       "    <tr>\n",
       "      <th>size_d2</th>\n",
       "      <td>0.145478</td>\n",
       "      <td>-0.072241</td>\n",
       "      <td>-0.170659</td>\n",
       "      <td>0.101287</td>\n",
       "      <td>-0.491132</td>\n",
       "      <td>1.000000</td>\n",
       "    </tr>\n",
       "  </tbody>\n",
       "</table>\n",
       "</div>"
      ],
      "text/plain": [
       "                  op_profit_margin  short_leverage       bmr      epsp  \\\n",
       "op_profit_margin          1.000000       -0.009547 -0.097035  0.375586   \n",
       "short_leverage           -0.009547        1.000000  0.074047 -0.010406   \n",
       "bmr                      -0.097035        0.074047  1.000000 -0.147657   \n",
       "epsp                      0.375586       -0.010406 -0.147657  1.000000   \n",
       "size_d1                   0.022144        0.078162 -0.058354  0.062155   \n",
       "size_d2                   0.145478       -0.072241 -0.170659  0.101287   \n",
       "\n",
       "                   size_d1   size_d2  \n",
       "op_profit_margin  0.022144  0.145478  \n",
       "short_leverage    0.078162 -0.072241  \n",
       "bmr              -0.058354 -0.170659  \n",
       "epsp              0.062155  0.101287  \n",
       "size_d1           1.000000 -0.491132  \n",
       "size_d2          -0.491132  1.000000  "
      ]
     },
     "execution_count": 27,
     "metadata": {},
     "output_type": "execute_result"
    }
   ],
   "source": [
    "X.corr()"
   ]
  },
  {
   "cell_type": "markdown",
   "metadata": {},
   "source": [
    "Use the Variant Covariant Matrix"
   ]
  },
  {
   "cell_type": "code",
   "execution_count": 25,
   "metadata": {},
   "outputs": [
    {
     "data": {
      "text/plain": [
       "array([[-0.82498624,  0.        ,  0.99599506,  0.00439069,  1.        ,\n",
       "         0.        ],\n",
       "       [ 0.00810064,  0.        ,  1.04992656,  0.00438099,  1.        ,\n",
       "         0.        ],\n",
       "       [-0.86865851,  0.        ,  1.00591696, -0.01491826,  1.        ,\n",
       "         0.        ],\n",
       "       ...,\n",
       "       [-0.11597549,  0.04811628,  2.81872096, -0.03901772,  0.        ,\n",
       "         0.        ],\n",
       "       [-0.87021487,  0.02947186,  3.51525056, -0.29726164,  0.        ,\n",
       "         0.        ],\n",
       "       [-0.34640448,  0.02865596,  2.44275162, -0.11957765,  0.        ,\n",
       "         0.        ]])"
      ]
     },
     "execution_count": 25,
     "metadata": {},
     "output_type": "execute_result"
    }
   ],
   "source": [
    "X_Mat"
   ]
  },
  {
   "cell_type": "markdown",
   "metadata": {},
   "source": []
  },
  {
   "cell_type": "markdown",
   "metadata": {},
   "source": [
    "Run statistical tests to detect outliers and leverage points.  \n",
    "You have to use matrix algebra for the proofs and clearly explain how the proofs work.  \n",
    "You can use Python functions to check results."
   ]
  },
  {
   "cell_type": "markdown",
   "metadata": {},
   "source": [
    "B=(X'.X)^(-1) . X' . Y"
   ]
  },
  {
   "cell_type": "code",
   "execution_count": null,
   "metadata": {},
   "outputs": [],
   "source": []
  }
 ],
 "metadata": {
  "kernelspec": {
   "display_name": "Python 3.9.13 ('tf')",
   "language": "python",
   "name": "python3"
  },
  "language_info": {
   "codemirror_mode": {
    "name": "ipython",
    "version": 3
   },
   "file_extension": ".py",
   "mimetype": "text/x-python",
   "name": "python",
   "nbconvert_exporter": "python",
   "pygments_lexer": "ipython3",
   "version": "3.9.13"
  },
  "orig_nbformat": 4,
  "vscode": {
   "interpreter": {
    "hash": "2f0d5cdfa70a2817a76af35bdab9899306c0c3c14942d4f5b79dcc3644c4e15a"
   }
  }
 },
 "nbformat": 4,
 "nbformat_minor": 2
}
